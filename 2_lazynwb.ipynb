{
 "cells": [
  {
   "cell_type": "markdown",
   "id": "ce8e75d5",
   "metadata": {},
   "source": [
    "## Lazynwb\n",
    "\n",
    "In [1_polars.ipynb](1_polars.ipynb), we saw predicate pushdown in action to reduce the amount of\n",
    "data polars reads from a parquet file:\n",
    "\n",
    "scan parquet file -> `LazyFrame` -> write query -> `.collect()` -> polars optimizes query &\n",
    "fetches data -> `DataFrame`\n",
    "\n",
    "The `lazynwb` package allows us to work with NWB files in a similar way.\n",
    "\n",
    "It works with single files, or multiple files, virtually concatenating tables across files:"
   ]
  },
  {
   "cell_type": "code",
   "execution_count": 9,
   "id": "7fb4690a",
   "metadata": {},
   "outputs": [
    {
     "name": "stdout",
     "output_type": "stream",
     "text": [
      "Found 252 NWB files\n"
     ]
    }
   ],
   "source": [
    "import pathlib\n",
    "\n",
    "import lazynwb\n",
    "import polars as pl\n",
    "\n",
    "\n",
    "nwb_paths = list(pathlib.Path('data/dynamicrouting_datacube_v0.0.268/nwb').glob('*.nwb'))\n",
    "print(f\"Found {len(nwb_paths)} NWB files\")"
   ]
  },
  {
   "cell_type": "markdown",
   "id": "92da051b",
   "metadata": {},
   "source": [
    "To see the available paths within one NWB file:"
   ]
  },
  {
   "cell_type": "code",
   "execution_count": 10,
   "id": "9a32be9b",
   "metadata": {},
   "outputs": [
    {
     "data": {
      "text/plain": [
       "{'/acquisition/frametimes_eye_camera/timestamps': <HDF5 dataset \"timestamps\": shape (267399,), type \"<f8\">,\n",
       " '/acquisition/frametimes_front_camera/timestamps': <HDF5 dataset \"timestamps\": shape (267204,), type \"<f8\">,\n",
       " '/acquisition/frametimes_side_camera/timestamps': <HDF5 dataset \"timestamps\": shape (267374,), type \"<f8\">,\n",
       " '/acquisition/lick_sensor_events/data': <HDF5 dataset \"data\": shape (2734,), type \"<f8\">,\n",
       " '/acquisition/lick_sensor_events/timestamps': <HDF5 dataset \"timestamps\": shape (2734,), type \"<f8\">,\n",
       " '/intervals/aud_rf_mapping_trials': <HDF5 group \"/intervals/aud_rf_mapping_trials\" (10 members)>,\n",
       " '/intervals/epochs': <HDF5 group \"/intervals/epochs\" (9 members)>,\n",
       " '/intervals/performance': <HDF5 group \"/intervals/performance\" (21 members)>,\n",
       " '/intervals/trials': <HDF5 group \"/intervals/trials\" (48 members)>,\n",
       " '/intervals/vis_rf_mapping_trials': <HDF5 group \"/intervals/vis_rf_mapping_trials\" (12 members)>,\n",
       " '/processing/behavior/dlc_eye_camera': <HDF5 group \"/processing/behavior/dlc_eye_camera\" (110 members)>,\n",
       " '/processing/behavior/eye_tracking': <HDF5 group \"/processing/behavior/eye_tracking\" (26 members)>,\n",
       " '/processing/behavior/facemap_front_camera/data': <HDF5 dataset \"data\": shape (267204, 500), type \"<f4\">,\n",
       " '/processing/behavior/facemap_front_camera/timestamps': <HDF5 dataset \"timestamps\": shape (267204,), type \"<f8\">,\n",
       " '/processing/behavior/facemap_side_camera/data': <HDF5 dataset \"data\": shape (267374, 500), type \"<f4\">,\n",
       " '/processing/behavior/facemap_side_camera/timestamps': <HDF5 dataset \"timestamps\": shape (267374,), type \"<f8\">,\n",
       " '/processing/behavior/licks/data': <HDF5 dataset \"data\": shape (2707,), type \"<f8\">,\n",
       " '/processing/behavior/licks/timestamps': <HDF5 dataset \"timestamps\": shape (2707,), type \"<f8\">,\n",
       " '/processing/behavior/lp_front_camera': <HDF5 group \"/processing/behavior/lp_front_camera\" (57 members)>,\n",
       " '/processing/behavior/lp_side_camera': <HDF5 group \"/processing/behavior/lp_side_camera\" (57 members)>,\n",
       " '/processing/behavior/quiescent_interval_violations/timestamps': <HDF5 dataset \"timestamps\": shape (131,), type \"<f8\">,\n",
       " '/processing/behavior/rewards/timestamps': <HDF5 dataset \"timestamps\": shape (130,), type \"<f8\">,\n",
       " '/processing/behavior/running_speed/data': <HDF5 dataset \"data\": shape (251998,), type \"<f8\">,\n",
       " '/processing/behavior/running_speed/timestamps': <HDF5 dataset \"timestamps\": shape (251998,), type \"<f8\">,\n",
       " '/units': <HDF5 group \"/units\" (66 members)>}"
      ]
     },
     "execution_count": 10,
     "metadata": {},
     "output_type": "execute_result"
    }
   ],
   "source": [
    "lazynwb.get_internal_paths(nwb_paths[0])"
   ]
  },
  {
   "cell_type": "markdown",
   "id": "9e27bc97",
   "metadata": {},
   "source": [
    "Access one of the paths as a `LazyFrame` across all NWB files:\n",
    "\n",
    "- note: `infer_schema_length` optionally limits how many files are scanned to get the schema of the table, since in this case the schema is the same across all files"
   ]
  },
  {
   "cell_type": "code",
   "execution_count": 11,
   "id": "af1f4b23",
   "metadata": {},
   "outputs": [
    {
     "data": {
      "text/html": [
       "<h4>NAIVE QUERY PLAN</h4><p>run <b>LazyFrame.show_graph()</b> to see the optimized version</p><?xml version=\"1.0\" encoding=\"UTF-8\" standalone=\"no\"?>\n",
       "<!DOCTYPE svg PUBLIC \"-//W3C//DTD SVG 1.1//EN\"\n",
       " \"http://www.w3.org/Graphics/SVG/1.1/DTD/svg11.dtd\">\n",
       "<!-- Generated by graphviz version 2.43.0 (0)\n",
       " -->\n",
       "<!-- Title: polars_query Pages: 1 -->\n",
       "<svg width=\"134pt\" height=\"61pt\"\n",
       " viewBox=\"0.00 0.00 134.00 61.00\" xmlns=\"http://www.w3.org/2000/svg\" xmlns:xlink=\"http://www.w3.org/1999/xlink\">\n",
       "<g id=\"graph0\" class=\"graph\" transform=\"scale(1 1) rotate(0) translate(4 57)\">\n",
       "<title>polars_query</title>\n",
       "<polygon fill=\"white\" stroke=\"transparent\" points=\"-4,4 -4,-57 130,-57 130,4 -4,4\"/>\n",
       "<!-- p1 -->\n",
       "<g id=\"node1\" class=\"node\">\n",
       "<title>p1</title>\n",
       "<polygon fill=\"none\" stroke=\"black\" points=\"126,-53 0,-53 0,0 126,0 126,-53\"/>\n",
       "<text text-anchor=\"middle\" x=\"63\" y=\"-37.8\" font-family=\"Times,serif\" font-size=\"14.00\">PYTHON SCAN</text>\n",
       "<text text-anchor=\"middle\" x=\"63\" y=\"-22.8\" font-family=\"Times,serif\" font-size=\"14.00\">π */24;</text>\n",
       "<text text-anchor=\"middle\" x=\"63\" y=\"-7.8\" font-family=\"Times,serif\" font-size=\"14.00\">σ none</text>\n",
       "</g>\n",
       "</g>\n",
       "</svg>\n"
      ],
      "text/plain": [
       "<LazyFrame at 0x7F276C1AAE00>"
      ]
     },
     "execution_count": 11,
     "metadata": {},
     "output_type": "execute_result"
    }
   ],
   "source": [
    "lf = lazynwb.scan_nwb(nwb_paths, table_path='/intervals/performance', infer_schema_length=1)\n",
    "lf"
   ]
  },
  {
   "cell_type": "markdown",
   "id": "61057fef",
   "metadata": {},
   "source": [
    "We can examine the schema of the table at this point:"
   ]
  },
  {
   "cell_type": "code",
   "execution_count": 12,
   "id": "5dfa1682",
   "metadata": {},
   "outputs": [
    {
     "data": {
      "text/plain": [
       "Schema([('aud_dprime', Float64),\n",
       "        ('aud_nontarget_response_rate', Float64),\n",
       "        ('aud_target_response_rate', Float64),\n",
       "        ('block_index', Int64),\n",
       "        ('catch_response_rate', Float64),\n",
       "        ('cross_modality_dprime', Float64),\n",
       "        ('false_alarm_rate', Float64),\n",
       "        ('hit_rate', Float64),\n",
       "        ('id', Int64),\n",
       "        ('is_first_block_aud', Boolean),\n",
       "        ('n_contingent_rewards', Int64),\n",
       "        ('n_hits', Int64),\n",
       "        ('n_responses', Int64),\n",
       "        ('n_trials', Int64),\n",
       "        ('rewarded_modality', String),\n",
       "        ('signed_cross_modality_dprime', Float64),\n",
       "        ('start_time', Float64),\n",
       "        ('stop_time', Float64),\n",
       "        ('vis_dprime', Float64),\n",
       "        ('vis_nontarget_response_rate', Float64),\n",
       "        ('vis_target_response_rate', Float64),\n",
       "        ('_nwb_path', String),\n",
       "        ('_table_path', String),\n",
       "        ('_table_index', UInt32)])"
      ]
     },
     "execution_count": 12,
     "metadata": {},
     "output_type": "execute_result"
    }
   ],
   "source": [
    "lf.collect_schema()"
   ]
  },
  {
   "cell_type": "markdown",
   "id": "1e02db4b",
   "metadata": {},
   "source": [
    "note: `_nwb_path` and `_table_row_index` are not columns in the NWB table on disk -- they're added by `lazynwb` to identify the source of each row in a table that spans multiple NWBs"
   ]
  },
  {
   "cell_type": "markdown",
   "id": "7219948e",
   "metadata": {},
   "source": [
    "Now we can carry out the same query as we did in [1_polars.ipynb](1_polars.ipynb) for parquet files:"
   ]
  },
  {
   "cell_type": "code",
   "execution_count": 13,
   "id": "d5fa0a0a",
   "metadata": {},
   "outputs": [
    {
     "data": {
      "text/plain": [
       "Schema([('age', String),\n",
       "        ('date_of_birth', String),\n",
       "        ('genotype', String),\n",
       "        ('sex', String),\n",
       "        ('species', String),\n",
       "        ('strain', String),\n",
       "        ('subject_id', String),\n",
       "        ('_nwb_path', String),\n",
       "        ('_table_path', String),\n",
       "        ('_table_index', UInt32)])"
      ]
     },
     "execution_count": 13,
     "metadata": {},
     "output_type": "execute_result"
    }
   ],
   "source": [
    "lazynwb.scan_nwb(nwb_paths, table_path='/general/subject', infer_schema_length=1).collect_schema()"
   ]
  },
  {
   "cell_type": "code",
   "execution_count": 14,
   "id": "5a9d4a1d",
   "metadata": {},
   "outputs": [
    {
     "data": {
      "text/html": [
       "<h4>NAIVE QUERY PLAN</h4><p>run <b>LazyFrame.show_graph()</b> to see the optimized version</p><?xml version=\"1.0\" encoding=\"UTF-8\" standalone=\"no\"?>\n",
       "<!DOCTYPE svg PUBLIC \"-//W3C//DTD SVG 1.1//EN\"\n",
       " \"http://www.w3.org/Graphics/SVG/1.1/DTD/svg11.dtd\">\n",
       "<!-- Generated by graphviz version 2.43.0 (0)\n",
       " -->\n",
       "<!-- Title: polars_query Pages: 1 -->\n",
       "<svg width=\"1129pt\" height=\"616pt\"\n",
       " viewBox=\"0.00 0.00 1129.00 616.00\" xmlns=\"http://www.w3.org/2000/svg\" xmlns:xlink=\"http://www.w3.org/1999/xlink\">\n",
       "<g id=\"graph0\" class=\"graph\" transform=\"scale(1 1) rotate(0) translate(4 612)\">\n",
       "<title>polars_query</title>\n",
       "<polygon fill=\"white\" stroke=\"transparent\" points=\"-4,4 -4,-612 1125,-612 1125,4 -4,4\"/>\n",
       "<!-- p1 -->\n",
       "<g id=\"node1\" class=\"node\">\n",
       "<title>p1</title>\n",
       "<polygon fill=\"none\" stroke=\"black\" points=\"736.5,-608 384.5,-608 384.5,-572 736.5,-572 736.5,-608\"/>\n",
       "<text text-anchor=\"middle\" x=\"560.5\" y=\"-586.3\" font-family=\"Times,serif\" font-size=\"14.00\">SORT BY [col(&quot;_nwb_path&quot;), col(&quot;block_index&quot;)]</text>\n",
       "</g>\n",
       "<!-- p2 -->\n",
       "<g id=\"node2\" class=\"node\">\n",
       "<title>p2</title>\n",
       "<polygon fill=\"none\" stroke=\"black\" points=\"587.5,-536 533.5,-536 533.5,-500 587.5,-500 587.5,-536\"/>\n",
       "<text text-anchor=\"middle\" x=\"560.5\" y=\"-514.3\" font-family=\"Times,serif\" font-size=\"14.00\">π 5/5</text>\n",
       "</g>\n",
       "<!-- p1&#45;&#45;p2 -->\n",
       "<g id=\"edge1\" class=\"edge\">\n",
       "<title>p1&#45;&#45;p2</title>\n",
       "<path fill=\"none\" stroke=\"black\" d=\"M560.5,-571.7C560.5,-560.85 560.5,-546.92 560.5,-536.1\"/>\n",
       "</g>\n",
       "<!-- p3 -->\n",
       "<g id=\"node3\" class=\"node\">\n",
       "<title>p3</title>\n",
       "<polygon fill=\"none\" stroke=\"black\" points=\"859.5,-464 261.5,-464 261.5,-428 859.5,-428 859.5,-464\"/>\n",
       "<text text-anchor=\"middle\" x=\"560.5\" y=\"-442.3\" font-family=\"Times,serif\" font-size=\"14.00\">WITH COLUMNS [[(col(&quot;stop_time&quot;)) &#45; (col(&quot;start_time&quot;))].alias(&quot;block_duration&quot;)]</text>\n",
       "</g>\n",
       "<!-- p2&#45;&#45;p3 -->\n",
       "<g id=\"edge2\" class=\"edge\">\n",
       "<title>p2&#45;&#45;p3</title>\n",
       "<path fill=\"none\" stroke=\"black\" d=\"M560.5,-499.7C560.5,-488.85 560.5,-474.92 560.5,-464.1\"/>\n",
       "</g>\n",
       "<!-- p4 -->\n",
       "<g id=\"node4\" class=\"node\">\n",
       "<title>p4</title>\n",
       "<polygon fill=\"none\" stroke=\"black\" points=\"1121,-392 0,-392 0,-356 1121,-356 1121,-392\"/>\n",
       "<text text-anchor=\"middle\" x=\"560.5\" y=\"-370.3\" font-family=\"Times,serif\" font-size=\"14.00\">FILTER BY [(col(&quot;keywords&quot;).list.contains([&quot;production&quot;])) &amp; ([(col(&quot;signed_cross_modality_dprime&quot;).drop_nans().mean().over([col(&quot;session_id&quot;)])) &gt; (2.0)])]</text>\n",
       "</g>\n",
       "<!-- p3&#45;&#45;p4 -->\n",
       "<g id=\"edge3\" class=\"edge\">\n",
       "<title>p3&#45;&#45;p4</title>\n",
       "<path fill=\"none\" stroke=\"black\" d=\"M560.5,-427.7C560.5,-416.85 560.5,-402.92 560.5,-392.1\"/>\n",
       "</g>\n",
       "<!-- p5 -->\n",
       "<g id=\"node5\" class=\"node\">\n",
       "<title>p5</title>\n",
       "<polygon fill=\"none\" stroke=\"black\" points=\"656,-320 465,-320 465,-267 656,-267 656,-320\"/>\n",
       "<text text-anchor=\"middle\" x=\"560.5\" y=\"-304.8\" font-family=\"Times,serif\" font-size=\"14.00\">JOIN LEFT</text>\n",
       "<text text-anchor=\"middle\" x=\"560.5\" y=\"-289.8\" font-family=\"Times,serif\" font-size=\"14.00\">left: [col(&quot;_nwb_path&quot;)];</text>\n",
       "<text text-anchor=\"middle\" x=\"560.5\" y=\"-274.8\" font-family=\"Times,serif\" font-size=\"14.00\">right: [col(&quot;_nwb_path&quot;)]</text>\n",
       "</g>\n",
       "<!-- p4&#45;&#45;p5 -->\n",
       "<g id=\"edge4\" class=\"edge\">\n",
       "<title>p4&#45;&#45;p5</title>\n",
       "<path fill=\"none\" stroke=\"black\" d=\"M560.5,-355.97C560.5,-345.51 560.5,-331.9 560.5,-320.16\"/>\n",
       "</g>\n",
       "<!-- p6 -->\n",
       "<g id=\"node6\" class=\"node\">\n",
       "<title>p6</title>\n",
       "<polygon fill=\"none\" stroke=\"black\" points=\"586,-231 395,-231 395,-178 586,-178 586,-231\"/>\n",
       "<text text-anchor=\"middle\" x=\"490.5\" y=\"-215.8\" font-family=\"Times,serif\" font-size=\"14.00\">JOIN LEFT</text>\n",
       "<text text-anchor=\"middle\" x=\"490.5\" y=\"-200.8\" font-family=\"Times,serif\" font-size=\"14.00\">left: [col(&quot;_nwb_path&quot;)];</text>\n",
       "<text text-anchor=\"middle\" x=\"490.5\" y=\"-185.8\" font-family=\"Times,serif\" font-size=\"14.00\">right: [col(&quot;_nwb_path&quot;)]</text>\n",
       "</g>\n",
       "<!-- p5&#45;&#45;p6 -->\n",
       "<g id=\"edge5\" class=\"edge\">\n",
       "<title>p5&#45;&#45;p6</title>\n",
       "<path fill=\"none\" stroke=\"black\" d=\"M539.88,-266.87C530.84,-255.64 520.26,-242.49 511.22,-231.25\"/>\n",
       "</g>\n",
       "<!-- p10 -->\n",
       "<g id=\"node10\" class=\"node\">\n",
       "<title>p10</title>\n",
       "<polygon fill=\"none\" stroke=\"black\" points=\"658.5,-222.5 604.5,-222.5 604.5,-186.5 658.5,-186.5 658.5,-222.5\"/>\n",
       "<text text-anchor=\"middle\" x=\"631.5\" y=\"-200.8\" font-family=\"Times,serif\" font-size=\"14.00\">π 2/2</text>\n",
       "</g>\n",
       "<!-- p5&#45;&#45;p10 -->\n",
       "<g id=\"edge9\" class=\"edge\">\n",
       "<title>p5&#45;&#45;p10</title>\n",
       "<path fill=\"none\" stroke=\"black\" d=\"M581.42,-266.87C593.04,-252.63 607.17,-235.31 617.46,-222.7\"/>\n",
       "</g>\n",
       "<!-- p7 -->\n",
       "<g id=\"node7\" class=\"node\">\n",
       "<title>p7</title>\n",
       "<polygon fill=\"none\" stroke=\"black\" points=\"462.5,-142 336.5,-142 336.5,-89 462.5,-89 462.5,-142\"/>\n",
       "<text text-anchor=\"middle\" x=\"399.5\" y=\"-126.8\" font-family=\"Times,serif\" font-size=\"14.00\">PYTHON SCAN</text>\n",
       "<text text-anchor=\"middle\" x=\"399.5\" y=\"-111.8\" font-family=\"Times,serif\" font-size=\"14.00\">π */24;</text>\n",
       "<text text-anchor=\"middle\" x=\"399.5\" y=\"-96.8\" font-family=\"Times,serif\" font-size=\"14.00\">σ none</text>\n",
       "</g>\n",
       "<!-- p6&#45;&#45;p7 -->\n",
       "<g id=\"edge6\" class=\"edge\">\n",
       "<title>p6&#45;&#45;p7</title>\n",
       "<path fill=\"none\" stroke=\"black\" d=\"M463.69,-177.87C451.95,-166.64 438.19,-153.49 426.43,-142.25\"/>\n",
       "</g>\n",
       "<!-- p8 -->\n",
       "<g id=\"node8\" class=\"node\">\n",
       "<title>p8</title>\n",
       "<polygon fill=\"none\" stroke=\"black\" points=\"534.5,-133.5 480.5,-133.5 480.5,-97.5 534.5,-97.5 534.5,-133.5\"/>\n",
       "<text text-anchor=\"middle\" x=\"507.5\" y=\"-111.8\" font-family=\"Times,serif\" font-size=\"14.00\">π 3/3</text>\n",
       "</g>\n",
       "<!-- p6&#45;&#45;p8 -->\n",
       "<g id=\"edge7\" class=\"edge\">\n",
       "<title>p6&#45;&#45;p8</title>\n",
       "<path fill=\"none\" stroke=\"black\" d=\"M495.51,-177.87C498.29,-163.63 501.68,-146.31 504.14,-133.7\"/>\n",
       "</g>\n",
       "<!-- p9 -->\n",
       "<g id=\"node9\" class=\"node\">\n",
       "<title>p9</title>\n",
       "<polygon fill=\"none\" stroke=\"black\" points=\"570.5,-53 444.5,-53 444.5,0 570.5,0 570.5,-53\"/>\n",
       "<text text-anchor=\"middle\" x=\"507.5\" y=\"-37.8\" font-family=\"Times,serif\" font-size=\"14.00\">PYTHON SCAN</text>\n",
       "<text text-anchor=\"middle\" x=\"507.5\" y=\"-22.8\" font-family=\"Times,serif\" font-size=\"14.00\">π */11;</text>\n",
       "<text text-anchor=\"middle\" x=\"507.5\" y=\"-7.8\" font-family=\"Times,serif\" font-size=\"14.00\">σ none</text>\n",
       "</g>\n",
       "<!-- p8&#45;&#45;p9 -->\n",
       "<g id=\"edge8\" class=\"edge\">\n",
       "<title>p8&#45;&#45;p9</title>\n",
       "<path fill=\"none\" stroke=\"black\" d=\"M507.5,-97.31C507.5,-84.73 507.5,-67.45 507.5,-53.23\"/>\n",
       "</g>\n",
       "<!-- p11 -->\n",
       "<g id=\"node11\" class=\"node\">\n",
       "<title>p11</title>\n",
       "<polygon fill=\"none\" stroke=\"black\" points=\"694.5,-142 568.5,-142 568.5,-89 694.5,-89 694.5,-142\"/>\n",
       "<text text-anchor=\"middle\" x=\"631.5\" y=\"-126.8\" font-family=\"Times,serif\" font-size=\"14.00\">PYTHON SCAN</text>\n",
       "<text text-anchor=\"middle\" x=\"631.5\" y=\"-111.8\" font-family=\"Times,serif\" font-size=\"14.00\">π */10;</text>\n",
       "<text text-anchor=\"middle\" x=\"631.5\" y=\"-96.8\" font-family=\"Times,serif\" font-size=\"14.00\">σ none</text>\n",
       "</g>\n",
       "<!-- p10&#45;&#45;p11 -->\n",
       "<g id=\"edge10\" class=\"edge\">\n",
       "<title>p10&#45;&#45;p11</title>\n",
       "<path fill=\"none\" stroke=\"black\" d=\"M631.5,-186.31C631.5,-173.73 631.5,-156.45 631.5,-142.23\"/>\n",
       "</g>\n",
       "</g>\n",
       "</svg>\n"
      ],
      "text/plain": [
       "<LazyFrame at 0x7F276C2261A0>"
      ]
     },
     "execution_count": 14,
     "metadata": {},
     "output_type": "execute_result"
    }
   ],
   "source": [
    "lf = (\n",
    "    lazynwb.scan_nwb(nwb_paths, table_path='/intervals/performance', infer_schema_length=1)\n",
    "\n",
    "    # metadata containing session kewords and subject ID is spread out in the NWB file so we have to combine the following two tables:\n",
    "    .join(\n",
    "        lazynwb.scan_nwb(nwb_paths, table_path='/general', infer_schema_length=1).select('_nwb_path', 'keywords', 'session_id'),\n",
    "        on='_nwb_path',\n",
    "        how='left',\n",
    "    )\n",
    "    .join(\n",
    "        lazynwb.scan_nwb(nwb_paths, table_path='/general/subject', infer_schema_length=1).select('_nwb_path', 'subject_id'),\n",
    "        on='_nwb_path',\n",
    "        how='left',\n",
    "    )\n",
    "    \n",
    "    .filter(\n",
    "        pl.col('keywords').list.contains('production'),\n",
    "        pl.col('signed_cross_modality_dprime').drop_nans().mean().over('session_id') > 2.0, # <-- for each row, only consider the other rows with the same session_id\n",
    "    )\n",
    "    .with_columns(\n",
    "        (pl.col('stop_time') - pl.col('start_time')).alias('block_duration'),\n",
    "    )\n",
    "    .select('block_index', 'block_duration', 'signed_cross_modality_dprime', 'subject_id', '_nwb_path')\n",
    "    .sort('_nwb_path', 'block_index')\n",
    ")\n",
    "lf"
   ]
  },
  {
   "cell_type": "code",
   "execution_count": 15,
   "id": "b5d14287",
   "metadata": {},
   "outputs": [
    {
     "name": "stderr",
     "output_type": "stream",
     "text": [
      "Getting multi-NWB /general/subject table:   4%|█▌                                     | 10/252 [00:00<00:02, 98.75NWB/s]\n",
      "Getting multi-NWB /general/subject table:  14%|█████▍                                 | 35/252 [00:01<00:09, 22.91NWB/s]\n",
      "Getting multi-NWB /general/subject table:  15%|██████                                 | 39/252 [00:01<00:10, 19.85NWB/s]\n",
      "Getting multi-NWB /general/subject table:  19%|███████▍                               | 48/252 [00:01<00:08, 24.10NWB/s]Table '/intervals/performance' not found in data/dynamicrouting_datacube_v0.0.268/nwb/721536_2024-05-16.nwb\n",
      "\n",
      "Getting multi-NWB /general/subject table:  21%|████████▏                              | 53/252 [00:02<00:07, 28.03NWB/s]\n",
      "Getting multi-NWB /general/subject table:  23%|████████▊                              | 57/252 [00:02<00:07, 26.29NWB/s]\n",
      "Getting multi-NWB /general/subject table:  26%|██████████▏                            | 66/252 [00:02<00:07, 24.73NWB/s]\n",
      "Getting multi-NWB /general/subject table:  28%|██████████▊                            | 70/252 [00:02<00:06, 26.68NWB/s]\n",
      "Getting multi-NWB /general/subject table:  29%|███████████▍                           | 74/252 [00:03<00:07, 23.75NWB/s]\n",
      "Getting multi-NWB /general/subject table:  31%|███████████▉                           | 77/252 [00:03<00:07, 23.01NWB/s]\n",
      "Getting multi-NWB /general/subject table:  32%|████████████▍                          | 80/252 [00:03<00:07, 22.71NWB/s]\n",
      "Getting multi-NWB /general/subject table:  33%|████████████▊                          | 83/252 [00:03<00:13, 12.36NWB/s]\n",
      "Getting multi-NWB /general/subject table:  37%|██████████████▌                        | 94/252 [00:04<00:07, 20.59NWB/s]\n",
      "Getting multi-NWB /general/subject table:  40%|███████████████                       | 100/252 [00:04<00:07, 21.68NWB/s]\n",
      "Getting multi-NWB /general/subject table:  51%|███████████████████▎                  | 128/252 [00:07<00:19,  6.43NWB/s]\n",
      "Getting multi-NWB /general/subject table:  54%|████████████████████▎                 | 135/252 [00:08<00:14,  7.83NWB/s]\n",
      "Getting multi-NWB /general/subject table:  55%|████████████████████▊                 | 138/252 [00:08<00:13,  8.66NWB/s]\n",
      "\u001b[A\n",
      "Getting multi-NWB /general/subject table:  56%|█████████████████████▎                | 141/252 [00:08<00:11,  9.77NWB/s]\n",
      "Getting multi-NWB /general/subject table:  57%|█████████████████████▌                | 143/252 [00:08<00:10, 10.42NWB/s]\n",
      "Getting multi-NWB /general/subject table:  58%|██████████████████████▏               | 147/252 [00:09<00:11,  9.14NWB/s]\n",
      "Getting multi-NWB /general/subject table:  60%|██████████████████████▌               | 150/252 [00:09<00:09, 10.32NWB/s]\n",
      "Getting multi-NWB /general/subject table:  61%|███████████████████████▏              | 154/252 [00:09<00:07, 13.25NWB/s]\n",
      "Getting multi-NWB /general/subject table:  62%|███████████████████████▌              | 156/252 [00:09<00:06, 13.96NWB/s]\n",
      "Getting multi-NWB /general/subject table:  64%|████████████████████████▍             | 162/252 [00:10<00:07, 12.18NWB/s]\n",
      "\u001b[A\n",
      "\u001b[A\n",
      "Getting multi-NWB /general/subject table:  65%|████████████████████████▋             | 164/252 [00:10<00:09,  9.59NWB/s]Table '/intervals/performance' not found in data/dynamicrouting_datacube_v0.0.268/nwb/754852_2025-02-13.nwb\n",
      "Getting multi-NWB /general/subject table:  68%|█████████████████████████▊            | 171/252 [00:10<00:05, 15.03NWB/s]\n",
      "\u001b[A\n",
      "Getting multi-NWB /general/subject table:  70%|██████████████████████████▌           | 176/252 [00:11<00:05, 14.80NWB/s]\n",
      "Getting multi-NWB /general/subject table:  71%|██████████████████████████▉           | 179/252 [00:11<00:04, 15.32NWB/s]\n",
      "\u001b[A\n",
      "Getting multi-NWB /general/subject table:  72%|███████████████████████████▎          | 181/252 [00:11<00:06, 10.78NWB/s]\n",
      "\u001b[A\n",
      "Getting multi-NWB /general/subject table:  73%|███████████████████████████▉          | 185/252 [00:12<00:05, 12.76NWB/s]\n",
      "Getting multi-NWB /general/subject table:  75%|████████████████████████████▎         | 188/252 [00:12<00:05, 12.79NWB/s]\n",
      "Getting multi-NWB /general/subject table:  75%|████████████████████████████▋         | 190/252 [00:12<00:04, 13.08NWB/s]Table '/intervals/performance' not found in data/dynamicrouting_datacube_v0.0.268/nwb/670248_2023-08-02.nwb\n",
      "\n",
      "Getting multi-NWB /general/subject table:  77%|█████████████████████████████         | 193/252 [00:12<00:03, 15.15NWB/s]Table '/intervals/performance' not found in data/dynamicrouting_datacube_v0.0.268/nwb/724612_2024-07-25.nwb\n",
      "\n",
      "Getting multi-NWB /general/subject table:  77%|█████████████████████████████▍        | 195/252 [00:12<00:03, 15.51NWB/s]\n",
      "Getting multi-NWB /general/subject table:  79%|█████████████████████████████▊        | 198/252 [00:12<00:02, 18.04NWB/s]Table '/intervals/performance' not found in data/dynamicrouting_datacube_v0.0.268/nwb/754852_2025-02-11.nwb\n",
      "\n",
      "Getting multi-NWB /general/subject table:  79%|██████████████████████████████▏       | 200/252 [00:13<00:04, 12.23NWB/s]\n",
      "\u001b[A\n",
      "Getting multi-NWB /general/subject table:  81%|██████████████████████████████▉       | 205/252 [00:13<00:03, 14.24NWB/s]Table '/intervals/performance' not found in data/dynamicrouting_datacube_v0.0.268/nwb/660023_2023-08-08.nwb\n",
      "\n",
      "Getting multi-NWB /general/subject table:  83%|███████████████████████████████▌      | 209/252 [00:13<00:02, 15.16NWB/s]\n",
      "\u001b[A\n",
      "Getting multi-NWB /general/subject table:  84%|███████████████████████████████▉      | 212/252 [00:14<00:03, 12.57NWB/s]\n",
      "Getting multi-NWB /general/subject table:  85%|████████████████████████████████▎     | 214/252 [00:14<00:03, 12.11NWB/s]\n",
      "Getting multi-NWB /general/subject table:  87%|█████████████████████████████████▏    | 220/252 [00:14<00:02, 14.24NWB/s]\n",
      "Getting multi-NWB /general/subject table:  88%|█████████████████████████████████▍    | 222/252 [00:14<00:02, 14.37NWB/s]\n",
      "Getting multi-NWB /general/subject table:  90%|██████████████████████████████████▏   | 227/252 [00:15<00:01, 16.23NWB/s]\n",
      "\u001b[A\n",
      "Getting multi-NWB /general/subject table:  91%|██████████████████████████████████▌   | 229/252 [00:15<00:01, 11.56NWB/s]\n",
      "Getting multi-NWB /general/subject table:  92%|███████████████████████████████████▏  | 233/252 [00:15<00:01, 13.48NWB/s]\n",
      "Getting multi-NWB /general/subject table:  93%|███████████████████████████████████▍  | 235/252 [00:15<00:01, 11.91NWB/s]\n",
      "Getting multi-NWB /general/subject table:  94%|███████████████████████████████████▉  | 238/252 [00:16<00:01, 12.64NWB/s]\n",
      "\u001b[A\n",
      "\u001b[ATable '/intervals/performance' not found in data/dynamicrouting_datacube_v0.0.268/nwb/724612_2024-07-24.nwb\n",
      "\n",
      "\u001b[ATable '/intervals/performance' not found in data/dynamicrouting_datacube_v0.0.268/nwb/754852_2025-02-10.nwb\n",
      "Getting multi-NWB /general/subject table:  95%|████████████████████████████████████▏ | 240/252 [00:16<00:01,  7.17NWB/s]\n",
      "\u001b[ATable '/intervals/performance' not found in data/dynamicrouting_datacube_v0.0.268/nwb/736803_2024-08-13.nwb\n",
      "\n",
      "\u001b[A\n",
      "\u001b[A\n",
      "\u001b[A\n",
      "\u001b[A\n",
      "\u001b[ATable '/intervals/performance' not found in data/dynamicrouting_datacube_v0.0.268/nwb/721536_2024-05-17.nwb\n",
      "\n",
      "\u001b[ATable '/intervals/performance' not found in data/dynamicrouting_datacube_v0.0.268/nwb/754852_2025-02-12.nwb\n",
      "\n",
      "\u001b[ATable '/intervals/performance' not found in data/dynamicrouting_datacube_v0.0.268/nwb/724612_2024-07-22.nwb\n",
      "\n",
      "\u001b[A\n",
      "\u001b[A\n",
      "\u001b[A\n",
      "Getting multi-NWB /general/subject table:  96%|████████████████████████████████████▍ | 242/252 [00:18<00:03,  3.15NWB/s]\n",
      "Getting multi-NWB /general/subject table:  97%|████████████████████████████████████▊ | 244/252 [00:18<00:01,  4.02NWB/s]\n",
      "\u001b[A\n",
      "\u001b[A\n",
      "Getting multi-NWB /general/subject table:  98%|█████████████████████████████████████ | 246/252 [00:18<00:01,  4.34NWB/s]\n",
      "Getting multi-NWB /general/subject table: 100%|██████████████████████████████████████| 252/252 [00:18<00:00, 13.29NWB/s]\n",
      "Getting multi-NWB /general table: 100%|██████████████████████████████████████████████| 252/252 [00:18<00:00, 13.27NWB/s]\n",
      "\n",
      "Getting multi-NWB /intervals/performance table: 100%|████████████████████████████████| 252/252 [00:18<00:00, 13.31NWB/s]\n"
     ]
    },
    {
     "data": {
      "text/html": [
       "<div><style>\n",
       ".dataframe > thead > tr,\n",
       ".dataframe > tbody > tr {\n",
       "  text-align: right;\n",
       "  white-space: pre-wrap;\n",
       "}\n",
       "</style>\n",
       "<small>shape: (6, 5)</small><table border=\"1\" class=\"dataframe\"><thead><tr><th>block_index</th><th>block_duration</th><th>signed_cross_modality_dprime</th><th>subject_id</th><th>_nwb_path</th></tr><tr><td>i64</td><td>f64</td><td>f64</td><td>str</td><td>str</td></tr></thead><tbody><tr><td>0</td><td>603.68899</td><td>2.224615</td><td>&quot;703880&quot;</td><td>&quot;/root/capsule/data/dynamicrout…</td></tr><tr><td>1</td><td>601.10347</td><td>1.769163</td><td>&quot;703880&quot;</td><td>&quot;/root/capsule/data/dynamicrout…</td></tr><tr><td>2</td><td>604.8567</td><td>2.639312</td><td>&quot;703880&quot;</td><td>&quot;/root/capsule/data/dynamicrout…</td></tr><tr><td>3</td><td>602.07098</td><td>2.102846</td><td>&quot;703880&quot;</td><td>&quot;/root/capsule/data/dynamicrout…</td></tr><tr><td>4</td><td>605.50716</td><td>2.626949</td><td>&quot;703880&quot;</td><td>&quot;/root/capsule/data/dynamicrout…</td></tr><tr><td>5</td><td>597.18357</td><td>1.232238</td><td>&quot;703880&quot;</td><td>&quot;/root/capsule/data/dynamicrout…</td></tr></tbody></table></div>"
      ],
      "text/plain": [
       "shape: (6, 5)\n",
       "┌─────────────┬────────────────┬───────────────────────────┬────────────┬──────────────────────────┐\n",
       "│ block_index ┆ block_duration ┆ signed_cross_modality_dpr ┆ subject_id ┆ _nwb_path                │\n",
       "│ ---         ┆ ---            ┆ ime                       ┆ ---        ┆ ---                      │\n",
       "│ i64         ┆ f64            ┆ ---                       ┆ str        ┆ str                      │\n",
       "│             ┆                ┆ f64                       ┆            ┆                          │\n",
       "╞═════════════╪════════════════╪═══════════════════════════╪════════════╪══════════════════════════╡\n",
       "│ 0           ┆ 603.68899      ┆ 2.224615                  ┆ 703880     ┆ /root/capsule/data/dynam │\n",
       "│             ┆                ┆                           ┆            ┆ icrout…                  │\n",
       "│ 1           ┆ 601.10347      ┆ 1.769163                  ┆ 703880     ┆ /root/capsule/data/dynam │\n",
       "│             ┆                ┆                           ┆            ┆ icrout…                  │\n",
       "│ 2           ┆ 604.8567       ┆ 2.639312                  ┆ 703880     ┆ /root/capsule/data/dynam │\n",
       "│             ┆                ┆                           ┆            ┆ icrout…                  │\n",
       "│ 3           ┆ 602.07098      ┆ 2.102846                  ┆ 703880     ┆ /root/capsule/data/dynam │\n",
       "│             ┆                ┆                           ┆            ┆ icrout…                  │\n",
       "│ 4           ┆ 605.50716      ┆ 2.626949                  ┆ 703880     ┆ /root/capsule/data/dynam │\n",
       "│             ┆                ┆                           ┆            ┆ icrout…                  │\n",
       "│ 5           ┆ 597.18357      ┆ 1.232238                  ┆ 703880     ┆ /root/capsule/data/dynam │\n",
       "│             ┆                ┆                           ┆            ┆ icrout…                  │\n",
       "└─────────────┴────────────────┴───────────────────────────┴────────────┴──────────────────────────┘"
      ]
     },
     "execution_count": 15,
     "metadata": {},
     "output_type": "execute_result"
    }
   ],
   "source": [
    "lf.collect()"
   ]
  },
  {
   "cell_type": "markdown",
   "id": "7d0a1d2d",
   "metadata": {},
   "source": [
    "Not as fast as accessing the parquet files (which contain the same data) but much faster than looping over NWB files and opening the tables with the pynwb package.\n",
    "\n",
    "The largest performance gains will be seen for tables that contain array data in columns, for example the `units` table in ecephys NWBs:\n"
   ]
  },
  {
   "cell_type": "code",
   "execution_count": 16,
   "id": "5d80ead9",
   "metadata": {},
   "outputs": [
    {
     "data": {
      "text/plain": [
       "{'obs_intervals': List(Array(Float64, shape=(2,))),\n",
       " 'spike_times': List(Float64),\n",
       " 'waveform_mean': Array(Float64, shape=(210, 384)),\n",
       " 'waveform_sd': Array(Float64, shape=(210, 384))}"
      ]
     },
     "execution_count": 16,
     "metadata": {},
     "output_type": "execute_result"
    }
   ],
   "source": [
    "lf = lazynwb.scan_nwb(nwb_paths, table_path='/units', infer_schema_length=1)\n",
    "{k:v for k,v in lf.collect_schema().items() if k in ('waveform_mean', 'waveform_sd', 'spike_times', 'obs_intervals')}"
   ]
  },
  {
   "cell_type": "markdown",
   "id": "29fadea5",
   "metadata": {},
   "source": [
    "The `waveform_mean` and `waveform_sd` columns contain a `[210 x 384]` array in each row, and each row of the `spike_times` column contains a list with thousands of values.\n",
    "\n",
    "Opening the units table with pynwb would read all of this data into memory, which is slow and wasteful.\n",
    "\n",
    "With lazynwb we can filter rows based on metadata columns, then select the array data we want for the remaining rows:"
   ]
  },
  {
   "cell_type": "code",
   "execution_count": 17,
   "id": "40e219d5",
   "metadata": {},
   "outputs": [
    {
     "name": "stderr",
     "output_type": "stream",
     "text": [
      "Getting multi-NWB /units table:   0%|                                                          | 0/252 [00:00<?, ?NWB/s]"
     ]
    },
    {
     "name": "stderr",
     "output_type": "stream",
     "text": [
      "Getting multi-NWB /units table: 100%|████████████████████████████████████████████████| 252/252 [00:05<00:00, 45.99NWB/s]\n",
      "Getting multi-NWB /units table: 100%|██████████████████████████████████████████████████| 64/64 [00:22<00:00,  2.84NWB/s]\n"
     ]
    },
    {
     "data": {
      "text/html": [
       "<div><style>\n",
       ".dataframe > thead > tr,\n",
       ".dataframe > tbody > tr {\n",
       "  text-align: right;\n",
       "  white-space: pre-wrap;\n",
       "}\n",
       "</style>\n",
       "<small>shape: (149, 4)</small><table border=\"1\" class=\"dataframe\"><thead><tr><th>unit_id</th><th>location</th><th>spike_times</th><th>_nwb_path</th></tr><tr><td>str</td><td>str</td><td>list[f64]</td><td>str</td></tr></thead><tbody><tr><td>&quot;759434_2025-02-06_D-33&quot;</td><td>&quot;CA1&quot;</td><td>[20.334285, 20.424817, … 7027.65843]</td><td>&quot;/root/capsule/data/dynamicrout…</td></tr><tr><td>&quot;759434_2025-02-06_D-73&quot;</td><td>&quot;CA1&quot;</td><td>[20.551917, 20.967581, … 7028.016428]</td><td>&quot;/root/capsule/data/dynamicrout…</td></tr><tr><td>&quot;644864_2023-02-02_C-159&quot;</td><td>&quot;CA1&quot;</td><td>[512.379566, 512.767995, … 5154.944709]</td><td>&quot;/root/capsule/data/dynamicrout…</td></tr><tr><td>&quot;726088_2024-06-18_E-96&quot;</td><td>&quot;CA1&quot;</td><td>[19.944689, 19.975622, … 7104.380934]</td><td>&quot;/root/capsule/data/dynamicrout…</td></tr><tr><td>&quot;737403_2024-09-27_A-231&quot;</td><td>&quot;CA1&quot;</td><td>[79.594146, 129.606797, … 7741.653876]</td><td>&quot;/root/capsule/data/dynamicrout…</td></tr><tr><td>&hellip;</td><td>&hellip;</td><td>&hellip;</td><td>&hellip;</td></tr><tr><td>&quot;628801_2022-09-19_C-271&quot;</td><td>&quot;CA1&quot;</td><td>[34.477293, 34.83749, … 4872.188405]</td><td>&quot;/root/capsule/data/dynamicrout…</td></tr><tr><td>&quot;628801_2022-09-19_C-656&quot;</td><td>&quot;CA1&quot;</td><td>[221.385049, 221.400315, … 4873.252029]</td><td>&quot;/root/capsule/data/dynamicrout…</td></tr><tr><td>&quot;664851_2023-11-16_B-320&quot;</td><td>&quot;CA1&quot;</td><td>[20.63323, 23.156425, … 6691.391273]</td><td>&quot;/root/capsule/data/dynamicrout…</td></tr><tr><td>&quot;706401_2024-04-23_C-243&quot;</td><td>&quot;CA1&quot;</td><td>[20.369653, 24.256623, … 7134.250641]</td><td>&quot;/root/capsule/data/dynamicrout…</td></tr><tr><td>&quot;706401_2024-04-23_C-256&quot;</td><td>&quot;CA1&quot;</td><td>[19.851291, 19.997423, … 7135.276999]</td><td>&quot;/root/capsule/data/dynamicrout…</td></tr></tbody></table></div>"
      ],
      "text/plain": [
       "shape: (149, 4)\n",
       "┌─────────────────────────┬──────────┬──────────────────────────────┬──────────────────────────────┐\n",
       "│ unit_id                 ┆ location ┆ spike_times                  ┆ _nwb_path                    │\n",
       "│ ---                     ┆ ---      ┆ ---                          ┆ ---                          │\n",
       "│ str                     ┆ str      ┆ list[f64]                    ┆ str                          │\n",
       "╞═════════════════════════╪══════════╪══════════════════════════════╪══════════════════════════════╡\n",
       "│ 759434_2025-02-06_D-33  ┆ CA1      ┆ [20.334285, 20.424817, …     ┆ /root/capsule/data/dynamicro │\n",
       "│                         ┆          ┆ 7027.…                       ┆ ut…                          │\n",
       "│ 759434_2025-02-06_D-73  ┆ CA1      ┆ [20.551917, 20.967581, …     ┆ /root/capsule/data/dynamicro │\n",
       "│                         ┆          ┆ 7028.…                       ┆ ut…                          │\n",
       "│ 644864_2023-02-02_C-159 ┆ CA1      ┆ [512.379566, 512.767995, …   ┆ /root/capsule/data/dynamicro │\n",
       "│                         ┆          ┆ 515…                         ┆ ut…                          │\n",
       "│ 726088_2024-06-18_E-96  ┆ CA1      ┆ [19.944689, 19.975622, …     ┆ /root/capsule/data/dynamicro │\n",
       "│                         ┆          ┆ 7104.…                       ┆ ut…                          │\n",
       "│ 737403_2024-09-27_A-231 ┆ CA1      ┆ [79.594146, 129.606797, …    ┆ /root/capsule/data/dynamicro │\n",
       "│                         ┆          ┆ 7741…                        ┆ ut…                          │\n",
       "│ …                       ┆ …        ┆ …                            ┆ …                            │\n",
       "│ 628801_2022-09-19_C-271 ┆ CA1      ┆ [34.477293, 34.83749, …      ┆ /root/capsule/data/dynamicro │\n",
       "│                         ┆          ┆ 4872.1…                      ┆ ut…                          │\n",
       "│ 628801_2022-09-19_C-656 ┆ CA1      ┆ [221.385049, 221.400315, …   ┆ /root/capsule/data/dynamicro │\n",
       "│                         ┆          ┆ 487…                         ┆ ut…                          │\n",
       "│ 664851_2023-11-16_B-320 ┆ CA1      ┆ [20.63323, 23.156425, …      ┆ /root/capsule/data/dynamicro │\n",
       "│                         ┆          ┆ 6691.3…                      ┆ ut…                          │\n",
       "│ 706401_2024-04-23_C-243 ┆ CA1      ┆ [20.369653, 24.256623, …     ┆ /root/capsule/data/dynamicro │\n",
       "│                         ┆          ┆ 7134.…                       ┆ ut…                          │\n",
       "│ 706401_2024-04-23_C-256 ┆ CA1      ┆ [19.851291, 19.997423, …     ┆ /root/capsule/data/dynamicro │\n",
       "│                         ┆          ┆ 7135.…                       ┆ ut…                          │\n",
       "└─────────────────────────┴──────────┴──────────────────────────────┴──────────────────────────────┘"
      ]
     },
     "execution_count": 17,
     "metadata": {},
     "output_type": "execute_result"
    }
   ],
   "source": [
    "(\n",
    "    lf  \n",
    "    .filter(\n",
    "        pl.col('location').str.starts_with('CA1'),\n",
    "        pl.col('activity_drift') <= 0.01,\n",
    "        pl.col('amplitude_cutoff') <= 0.1,\n",
    "        pl.col('presence_ratio') >= 0.7,\n",
    "        pl.col('isi_violations_ratio') <= 0.5,\n",
    "        pl.col('decoder_label') != 'noise',\n",
    "    )\n",
    "    .select('unit_id', 'location', 'spike_times', '_nwb_path')\n",
    "    .collect()\n",
    ")"
   ]
  },
  {
   "cell_type": "markdown",
   "id": "e2a9503e",
   "metadata": {},
   "source": [
    "Behind the scenes, multiple operations take place:\n",
    "1. the columns referenced in the `.filter()` operation are fetched for 252/252 NWB files\n",
    "2. the filter operation is applied, which excludes some rows and some NWB files entirely\n",
    "3. the columns requested in the `.select()` operation are fetched just for the filtered rows, which are found in 64/252 NWB files"
   ]
  },
  {
   "cell_type": "markdown",
   "id": "27651d3f",
   "metadata": {},
   "source": [
    "---\n",
    "\n"
   ]
  },
  {
   "cell_type": "markdown",
   "id": "1c0db594",
   "metadata": {},
   "source": [
    "## SQL -> polars -> NWB\n",
    "\n",
    "For those who prefer to write SQL queries, `lazynwb` implements the following interface (https://docs.pola.rs/api/python/stable/reference/sql/python_api.html#sqlcontext):"
   ]
  },
  {
   "cell_type": "code",
   "execution_count": null,
   "id": "fbaf78db",
   "metadata": {},
   "outputs": [
    {
     "name": "stderr",
     "output_type": "stream",
     "text": [
      "Scanning NWB files: 100%|███████████████████████| 1/1 [00:00<00:00, 89.01file/s]\n"
     ]
    },
    {
     "data": {
      "text/plain": [
       "<SQLContext [tables:20] at 0x7f276c254310>"
      ]
     },
     "execution_count": 18,
     "metadata": {},
     "output_type": "execute_result"
    }
   ],
   "source": [
    "sql_context = lazynwb.get_sql_context(nwb_paths, infer_schema_length=1)"
   ]
  },
  {
   "cell_type": "code",
   "execution_count": 25,
   "id": "d1755931",
   "metadata": {},
   "outputs": [
    {
     "name": "stderr",
     "output_type": "stream",
     "text": [
      "Getting multi-NWB intervals/performance table:   0%|                                           | 0/252 [00:00<?, ?NWB/s]"
     ]
    },
    {
     "name": "stderr",
     "output_type": "stream",
     "text": [
      "Getting multi-NWB intervals/performance table:  15%|█████                            | 39/252 [00:00<00:01, 126.31NWB/s]Table 'intervals/performance' not found in data/dynamicrouting_datacube_v0.0.268/nwb/754852_2025-02-13.nwb\n",
      "Table 'intervals/performance' not found in data/dynamicrouting_datacube_v0.0.268/nwb/721536_2024-05-16.nwb\n",
      "Table 'intervals/performance' not found in data/dynamicrouting_datacube_v0.0.268/nwb/724612_2024-07-25.nwb\n",
      "Table 'intervals/performance' not found in data/dynamicrouting_datacube_v0.0.268/nwb/754852_2025-02-11.nwb\n",
      "Table 'intervals/performance' not found in data/dynamicrouting_datacube_v0.0.268/nwb/660023_2023-08-08.nwb\n",
      "Getting multi-NWB intervals/performance table:  35%|███████████▌                     | 88/252 [00:00<00:01, 101.12NWB/s]Table 'intervals/performance' not found in data/dynamicrouting_datacube_v0.0.268/nwb/724612_2024-07-24.nwb\n",
      "Getting multi-NWB intervals/performance table:  43%|█████████████▋                  | 108/252 [00:01<00:01, 125.76NWB/s]Table 'intervals/performance' not found in data/dynamicrouting_datacube_v0.0.268/nwb/736803_2024-08-13.nwb\n",
      "Getting multi-NWB intervals/performance table:  54%|█████████████████▍              | 137/252 [00:01<00:00, 122.01NWB/s]Table 'intervals/performance' not found in data/dynamicrouting_datacube_v0.0.268/nwb/721536_2024-05-17.nwb\n",
      "Getting multi-NWB intervals/performance table:  60%|███████████████████             | 150/252 [00:01<00:00, 121.24NWB/s]Table 'intervals/performance' not found in data/dynamicrouting_datacube_v0.0.268/nwb/754852_2025-02-12.nwb\n",
      "Table 'intervals/performance' not found in data/dynamicrouting_datacube_v0.0.268/nwb/724612_2024-07-22.nwb\n",
      "Getting multi-NWB intervals/performance table:  73%|███████████████████████▏        | 183/252 [00:01<00:00, 137.62NWB/s]Table 'intervals/performance' not found in data/dynamicrouting_datacube_v0.0.268/nwb/670248_2023-08-02.nwb\n",
      "Table 'intervals/performance' not found in data/dynamicrouting_datacube_v0.0.268/nwb/754852_2025-02-10.nwb\n",
      "Getting multi-NWB intervals/performance table: 100%|████████████████████████████████| 252/252 [00:01<00:00, 132.15NWB/s]\n"
     ]
    },
    {
     "data": {
      "text/html": [
       "<div><style>\n",
       ".dataframe > thead > tr,\n",
       ".dataframe > tbody > tr {\n",
       "  text-align: right;\n",
       "  white-space: pre-wrap;\n",
       "}\n",
       "</style>\n",
       "<small>shape: (1_311, 24)</small><table border=\"1\" class=\"dataframe\"><thead><tr><th>block_index</th><th>cross_modality_dprime</th><th>stop_time</th><th>aud_nontarget_response_rate</th><th>signed_cross_modality_dprime</th><th>rewarded_modality</th><th>n_contingent_rewards</th><th>aud_dprime</th><th>catch_response_rate</th><th>n_trials</th><th>vis_target_response_rate</th><th>start_time</th><th>vis_dprime</th><th>false_alarm_rate</th><th>n_responses</th><th>id</th><th>hit_rate</th><th>vis_nontarget_response_rate</th><th>aud_target_response_rate</th><th>n_hits</th><th>is_first_block_aud</th><th>_nwb_path</th><th>_table_path</th><th>_table_index</th></tr><tr><td>i64</td><td>f64</td><td>f64</td><td>f64</td><td>f64</td><td>str</td><td>i64</td><td>f64</td><td>f64</td><td>i64</td><td>f64</td><td>f64</td><td>f64</td><td>f64</td><td>i64</td><td>i64</td><td>f64</td><td>f64</td><td>f64</td><td>i64</td><td>bool</td><td>str</td><td>str</td><td>u32</td></tr></thead><tbody><tr><td>0</td><td>2.711324</td><td>1703.10128</td><td>0.235294</td><td>2.711324</td><td>&quot;vis&quot;</td><td>19</td><td>-1.238442</td><td>5.285714</td><td>87</td><td>1.0</td><td>1103.37055</td><td>2.841431</td><td>0.232143</td><td>37</td><td>0</td><td>1.0</td><td>0.210526</td><td>0.25</td><td>24</td><td>false</td><td>&quot;/root/capsule/data/dynamicrout…</td><td>&quot;intervals/performance&quot;</td><td>0</td></tr><tr><td>1</td><td>-0.464653</td><td>2310.23841</td><td>0.933333</td><td>0.464653</td><td>&quot;aud&quot;</td><td>13</td><td>-0.464653</td><td>4.416667</td><td>77</td><td>0.933333</td><td>1704.70261</td><td>-1.750263</td><td>0.777778</td><td>53</td><td>1</td><td>0.85</td><td>0.466667</td><td>0.866667</td><td>17</td><td>false</td><td>&quot;/root/capsule/data/dynamicrout…</td><td>&quot;intervals/performance&quot;</td><td>1</td></tr><tr><td>2</td><td>2.195563</td><td>2917.79243</td><td>0.190476</td><td>2.195563</td><td>&quot;vis&quot;</td><td>21</td><td>-1.083821</td><td>5.714286</td><td>94</td><td>1.0</td><td>2310.4552</td><td>3.714755</td><td>0.229508</td><td>40</td><td>2</td><td>1.0</td><td>0.05</td><td>0.45</td><td>26</td><td>false</td><td>&quot;/root/capsule/data/dynamicrout…</td><td>&quot;intervals/performance&quot;</td><td>2</td></tr><tr><td>3</td><td>1.916772</td><td>3525.49664</td><td>1.0</td><td>-1.916772</td><td>&quot;aud&quot;</td><td>17</td><td>0.166509</td><td>7.285714</td><td>74</td><td>0.533333</td><td>2918.12605</td><td>-1.210989</td><td>0.6</td><td>51</td><td>3</td><td>1.0</td><td>0.266667</td><td>1.0</td><td>22</td><td>false</td><td>&quot;/root/capsule/data/dynamicrout…</td><td>&quot;intervals/performance&quot;</td><td>3</td></tr><tr><td>4</td><td>0.833109</td><td>4135.9197</td><td>0.352941</td><td>0.833109</td><td>&quot;vis&quot;</td><td>20</td><td>-1.537114</td><td>5.555556</td><td>87</td><td>1.0</td><td>3535.3048</td><td>3.02117</td><td>0.471698</td><td>50</td><td>4</td><td>1.0</td><td>0.166667</td><td>0.888889</td><td>25</td><td>false</td><td>&quot;/root/capsule/data/dynamicrout…</td><td>&quot;intervals/performance&quot;</td><td>4</td></tr><tr><td>&hellip;</td><td>&hellip;</td><td>&hellip;</td><td>&hellip;</td><td>&hellip;</td><td>&hellip;</td><td>&hellip;</td><td>&hellip;</td><td>&hellip;</td><td>&hellip;</td><td>&hellip;</td><td>&hellip;</td><td>&hellip;</td><td>&hellip;</td><td>&hellip;</td><td>&hellip;</td><td>&hellip;</td><td>&hellip;</td><td>&hellip;</td><td>&hellip;</td><td>&hellip;</td><td>&hellip;</td><td>&hellip;</td><td>&hellip;</td></tr><tr><td>1</td><td>0.39923</td><td>3549.16307</td><td>0.105263</td><td>-0.39923</td><td>&quot;aud&quot;</td><td>23</td><td>3.271206</td><td>4.777778</td><td>90</td><td>0.947368</td><td>2942.28823</td><td>0.022032</td><td>0.344828</td><td>43</td><td>1</td><td>1.0</td><td>0.0</td><td>1.0</td><td>23</td><td>false</td><td>&quot;/root/capsule/data/dynamicrout…</td><td>&quot;intervals/performance&quot;</td><td>1</td></tr><tr><td>2</td><td>0.408895</td><td>4155.73784</td><td>0.0</td><td>0.408895</td><td>&quot;vis&quot;</td><td>25</td><td>0.0</td><td>4.888889</td><td>94</td><td>1.0</td><td>3549.24652</td><td>4.013713</td><td>0.316667</td><td>44</td><td>2</td><td>1.0</td><td>0.0</td><td>0.95</td><td>25</td><td>false</td><td>&quot;/root/capsule/data/dynamicrout…</td><td>&quot;intervals/performance&quot;</td><td>2</td></tr><tr><td>3</td><td>0.801629</td><td>4763.3301</td><td>0.263158</td><td>-0.801629</td><td>&quot;aud&quot;</td><td>25</td><td>2.687389</td><td>8.166667</td><td>88</td><td>0.894737</td><td>4156.40506</td><td>-0.318075</td><td>0.403509</td><td>49</td><td>3</td><td>1.0</td><td>0.052632</td><td>1.0</td><td>25</td><td>false</td><td>&quot;/root/capsule/data/dynamicrout…</td><td>&quot;intervals/performance&quot;</td><td>3</td></tr><tr><td>4</td><td>1.365366</td><td>5368.32015</td><td>0.05</td><td>1.365366</td><td>&quot;vis&quot;</td><td>24</td><td>-0.31511</td><td>4.222222</td><td>94</td><td>0.95</td><td>4764.51447</td><td>3.71065</td><td>0.233333</td><td>38</td><td>4</td><td>0.96</td><td>0.0</td><td>0.65</td><td>24</td><td>false</td><td>&quot;/root/capsule/data/dynamicrout…</td><td>&quot;intervals/performance&quot;</td><td>4</td></tr><tr><td>5</td><td>0.416978</td><td>5972.24264</td><td>0.117647</td><td>-0.416978</td><td>&quot;aud&quot;</td><td>24</td><td>3.223666</td><td>5.222222</td><td>86</td><td>0.947368</td><td>5369.60454</td><td>-0.7511</td><td>0.415094</td><td>47</td><td>5</td><td>1.0</td><td>0.117647</td><td>1.0</td><td>24</td><td>false</td><td>&quot;/root/capsule/data/dynamicrout…</td><td>&quot;intervals/performance&quot;</td><td>5</td></tr></tbody></table></div>"
      ],
      "text/plain": [
       "shape: (1_311, 24)\n",
       "┌───────────┬───────────┬───────────┬───────────┬───┬───────────┬───────────┬───────────┬──────────┐\n",
       "│ block_ind ┆ cross_mod ┆ stop_time ┆ aud_nonta ┆ … ┆ is_first_ ┆ _nwb_path ┆ _table_pa ┆ _table_i │\n",
       "│ ex        ┆ ality_dpr ┆ ---       ┆ rget_resp ┆   ┆ block_aud ┆ ---       ┆ th        ┆ ndex     │\n",
       "│ ---       ┆ ime       ┆ f64       ┆ onse_rate ┆   ┆ ---       ┆ str       ┆ ---       ┆ ---      │\n",
       "│ i64       ┆ ---       ┆           ┆ ---       ┆   ┆ bool      ┆           ┆ str       ┆ u32      │\n",
       "│           ┆ f64       ┆           ┆ f64       ┆   ┆           ┆           ┆           ┆          │\n",
       "╞═══════════╪═══════════╪═══════════╪═══════════╪═══╪═══════════╪═══════════╪═══════════╪══════════╡\n",
       "│ 0         ┆ 2.711324  ┆ 1703.1012 ┆ 0.235294  ┆ … ┆ false     ┆ /root/cap ┆ intervals ┆ 0        │\n",
       "│           ┆           ┆ 8         ┆           ┆   ┆           ┆ sule/data ┆ /performa ┆          │\n",
       "│           ┆           ┆           ┆           ┆   ┆           ┆ /dynamicr ┆ nce       ┆          │\n",
       "│           ┆           ┆           ┆           ┆   ┆           ┆ out…      ┆           ┆          │\n",
       "│ 1         ┆ -0.464653 ┆ 2310.2384 ┆ 0.933333  ┆ … ┆ false     ┆ /root/cap ┆ intervals ┆ 1        │\n",
       "│           ┆           ┆ 1         ┆           ┆   ┆           ┆ sule/data ┆ /performa ┆          │\n",
       "│           ┆           ┆           ┆           ┆   ┆           ┆ /dynamicr ┆ nce       ┆          │\n",
       "│           ┆           ┆           ┆           ┆   ┆           ┆ out…      ┆           ┆          │\n",
       "│ 2         ┆ 2.195563  ┆ 2917.7924 ┆ 0.190476  ┆ … ┆ false     ┆ /root/cap ┆ intervals ┆ 2        │\n",
       "│           ┆           ┆ 3         ┆           ┆   ┆           ┆ sule/data ┆ /performa ┆          │\n",
       "│           ┆           ┆           ┆           ┆   ┆           ┆ /dynamicr ┆ nce       ┆          │\n",
       "│           ┆           ┆           ┆           ┆   ┆           ┆ out…      ┆           ┆          │\n",
       "│ 3         ┆ 1.916772  ┆ 3525.4966 ┆ 1.0       ┆ … ┆ false     ┆ /root/cap ┆ intervals ┆ 3        │\n",
       "│           ┆           ┆ 4         ┆           ┆   ┆           ┆ sule/data ┆ /performa ┆          │\n",
       "│           ┆           ┆           ┆           ┆   ┆           ┆ /dynamicr ┆ nce       ┆          │\n",
       "│           ┆           ┆           ┆           ┆   ┆           ┆ out…      ┆           ┆          │\n",
       "│ 4         ┆ 0.833109  ┆ 4135.9197 ┆ 0.352941  ┆ … ┆ false     ┆ /root/cap ┆ intervals ┆ 4        │\n",
       "│           ┆           ┆           ┆           ┆   ┆           ┆ sule/data ┆ /performa ┆          │\n",
       "│           ┆           ┆           ┆           ┆   ┆           ┆ /dynamicr ┆ nce       ┆          │\n",
       "│           ┆           ┆           ┆           ┆   ┆           ┆ out…      ┆           ┆          │\n",
       "│ …         ┆ …         ┆ …         ┆ …         ┆ … ┆ …         ┆ …         ┆ …         ┆ …        │\n",
       "│ 1         ┆ 0.39923   ┆ 3549.1630 ┆ 0.105263  ┆ … ┆ false     ┆ /root/cap ┆ intervals ┆ 1        │\n",
       "│           ┆           ┆ 7         ┆           ┆   ┆           ┆ sule/data ┆ /performa ┆          │\n",
       "│           ┆           ┆           ┆           ┆   ┆           ┆ /dynamicr ┆ nce       ┆          │\n",
       "│           ┆           ┆           ┆           ┆   ┆           ┆ out…      ┆           ┆          │\n",
       "│ 2         ┆ 0.408895  ┆ 4155.7378 ┆ 0.0       ┆ … ┆ false     ┆ /root/cap ┆ intervals ┆ 2        │\n",
       "│           ┆           ┆ 4         ┆           ┆   ┆           ┆ sule/data ┆ /performa ┆          │\n",
       "│           ┆           ┆           ┆           ┆   ┆           ┆ /dynamicr ┆ nce       ┆          │\n",
       "│           ┆           ┆           ┆           ┆   ┆           ┆ out…      ┆           ┆          │\n",
       "│ 3         ┆ 0.801629  ┆ 4763.3301 ┆ 0.263158  ┆ … ┆ false     ┆ /root/cap ┆ intervals ┆ 3        │\n",
       "│           ┆           ┆           ┆           ┆   ┆           ┆ sule/data ┆ /performa ┆          │\n",
       "│           ┆           ┆           ┆           ┆   ┆           ┆ /dynamicr ┆ nce       ┆          │\n",
       "│           ┆           ┆           ┆           ┆   ┆           ┆ out…      ┆           ┆          │\n",
       "│ 4         ┆ 1.365366  ┆ 5368.3201 ┆ 0.05      ┆ … ┆ false     ┆ /root/cap ┆ intervals ┆ 4        │\n",
       "│           ┆           ┆ 5         ┆           ┆   ┆           ┆ sule/data ┆ /performa ┆          │\n",
       "│           ┆           ┆           ┆           ┆   ┆           ┆ /dynamicr ┆ nce       ┆          │\n",
       "│           ┆           ┆           ┆           ┆   ┆           ┆ out…      ┆           ┆          │\n",
       "│ 5         ┆ 0.416978  ┆ 5972.2426 ┆ 0.117647  ┆ … ┆ false     ┆ /root/cap ┆ intervals ┆ 5        │\n",
       "│           ┆           ┆ 4         ┆           ┆   ┆           ┆ sule/data ┆ /performa ┆          │\n",
       "│           ┆           ┆           ┆           ┆   ┆           ┆ /dynamicr ┆ nce       ┆          │\n",
       "│           ┆           ┆           ┆           ┆   ┆           ┆ out…      ┆           ┆          │\n",
       "└───────────┴───────────┴───────────┴───────────┴───┴───────────┴───────────┴───────────┴──────────┘"
      ]
     },
     "execution_count": 25,
     "metadata": {},
     "output_type": "execute_result"
    }
   ],
   "source": [
    "sql_context.execute(\n",
    "    \"\"\"\n",
    "    SELECT * FROM performance\n",
    "    \"\"\",\n",
    "    eager=True,\n",
    ")"
   ]
  },
  {
   "cell_type": "markdown",
   "id": "da305845",
   "metadata": {},
   "source": [
    "Note: the metadata tables in `general` are currently missing from the SQL interface but will be added soon: "
   ]
  },
  {
   "cell_type": "code",
   "execution_count": 26,
   "id": "6fa1a050",
   "metadata": {},
   "outputs": [
    {
     "data": {
      "text/plain": [
       "['aud_rf_mapping_trials',\n",
       " 'dlc_eye_camera',\n",
       " 'epochs',\n",
       " 'eye_tracking',\n",
       " 'facemap_front_camera',\n",
       " 'facemap_side_camera',\n",
       " 'frametimes_eye_camera',\n",
       " 'frametimes_front_camera',\n",
       " 'frametimes_side_camera',\n",
       " 'lick_sensor_events',\n",
       " 'licks',\n",
       " 'lp_front_camera',\n",
       " 'lp_side_camera',\n",
       " 'performance',\n",
       " 'quiescent_interval_violations',\n",
       " 'rewards',\n",
       " 'running_speed',\n",
       " 'trials',\n",
       " 'units',\n",
       " 'vis_rf_mapping_trials']"
      ]
     },
     "execution_count": 26,
     "metadata": {},
     "output_type": "execute_result"
    }
   ],
   "source": [
    "sql_context.tables()"
   ]
  }
 ],
 "metadata": {
  "kernelspec": {
   "display_name": "base",
   "language": "python",
   "name": "python3"
  },
  "language_info": {
   "codemirror_mode": {
    "name": "ipython",
    "version": 3
   },
   "file_extension": ".py",
   "mimetype": "text/x-python",
   "name": "python",
   "nbconvert_exporter": "python",
   "pygments_lexer": "ipython3",
   "version": "3.10.12"
  }
 },
 "nbformat": 4,
 "nbformat_minor": 5
}
