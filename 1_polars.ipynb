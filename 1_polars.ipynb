{
 "cells": [
  {
   "cell_type": "code",
   "execution_count": 3,
   "id": "fe6d00cd",
   "metadata": {},
   "outputs": [],
   "source": [
    "import datetime \n",
    "import pathlib\n",
    "\n",
    "import pandas as pd\n",
    "import polars as pl\n",
    "\n",
    "CONSOLIDATED_DIR = pathlib.Path('data/dynamicrouting_datacube_v0.0.268/consolidated')\n",
    "session_table = 'data/dynamicrouting_datacube_v0.0.268/session_table.parquet'"
   ]
  },
  {
   "cell_type": "markdown",
   "id": "a37c199b",
   "metadata": {},
   "source": [
    "---\n",
    "## Nullable data types\n",
    "\n",
    "In pandas dataframes, we can't represent missing values in integer columns: instead the whole column is converted to float dtype:"
   ]
  },
  {
   "cell_type": "code",
   "execution_count": 8,
   "id": "85685358",
   "metadata": {},
   "outputs": [
    {
     "data": {
      "text/html": [
       "<div>\n",
       "<style scoped>\n",
       "    .dataframe tbody tr th:only-of-type {\n",
       "        vertical-align: middle;\n",
       "    }\n",
       "\n",
       "    .dataframe tbody tr th {\n",
       "        vertical-align: top;\n",
       "    }\n",
       "\n",
       "    .dataframe thead th {\n",
       "        text-align: right;\n",
       "    }\n",
       "</style>\n",
       "<table border=\"1\" class=\"dataframe\">\n",
       "  <thead>\n",
       "    <tr style=\"text-align: right;\">\n",
       "      <th></th>\n",
       "      <th>stim_number</th>\n",
       "    </tr>\n",
       "  </thead>\n",
       "  <tbody>\n",
       "    <tr>\n",
       "      <th>0</th>\n",
       "      <td>0</td>\n",
       "    </tr>\n",
       "    <tr>\n",
       "      <th>1</th>\n",
       "      <td>1</td>\n",
       "    </tr>\n",
       "    <tr>\n",
       "      <th>2</th>\n",
       "      <td>2</td>\n",
       "    </tr>\n",
       "  </tbody>\n",
       "</table>\n",
       "</div>"
      ],
      "text/plain": [
       "   stim_number\n",
       "0            0\n",
       "1            1\n",
       "2            2"
      ]
     },
     "execution_count": 8,
     "metadata": {},
     "output_type": "execute_result"
    }
   ],
   "source": [
    "pd.DataFrame({'stim_number': [0, 1, 2]})"
   ]
  },
  {
   "cell_type": "code",
   "execution_count": 32,
   "id": "3c4a5911",
   "metadata": {},
   "outputs": [
    {
     "data": {
      "text/html": [
       "<div>\n",
       "<style scoped>\n",
       "    .dataframe tbody tr th:only-of-type {\n",
       "        vertical-align: middle;\n",
       "    }\n",
       "\n",
       "    .dataframe tbody tr th {\n",
       "        vertical-align: top;\n",
       "    }\n",
       "\n",
       "    .dataframe thead th {\n",
       "        text-align: right;\n",
       "    }\n",
       "</style>\n",
       "<table border=\"1\" class=\"dataframe\">\n",
       "  <thead>\n",
       "    <tr style=\"text-align: right;\">\n",
       "      <th></th>\n",
       "      <th>stim_number</th>\n",
       "    </tr>\n",
       "  </thead>\n",
       "  <tbody>\n",
       "    <tr>\n",
       "      <th>0</th>\n",
       "      <td>0.0</td>\n",
       "    </tr>\n",
       "    <tr>\n",
       "      <th>1</th>\n",
       "      <td>1.0</td>\n",
       "    </tr>\n",
       "    <tr>\n",
       "      <th>2</th>\n",
       "      <td>2.0</td>\n",
       "    </tr>\n",
       "    <tr>\n",
       "      <th>3</th>\n",
       "      <td>NaN</td>\n",
       "    </tr>\n",
       "  </tbody>\n",
       "</table>\n",
       "</div>"
      ],
      "text/plain": [
       "   stim_number\n",
       "0          0.0\n",
       "1          1.0\n",
       "2          2.0\n",
       "3          NaN"
      ]
     },
     "execution_count": 32,
     "metadata": {},
     "output_type": "execute_result"
    }
   ],
   "source": [
    "pd.DataFrame({'stim_number': [0, 1, 2, None]})"
   ]
  },
  {
   "cell_type": "markdown",
   "id": "84878daa",
   "metadata": {},
   "source": [
    "This is just a quirk of how numpy works, and pandas is built on top of numpy:"
   ]
  },
  {
   "cell_type": "code",
   "execution_count": 41,
   "id": "98da52ff",
   "metadata": {},
   "outputs": [
    {
     "data": {
      "text/plain": [
       "(dtype('int64'), dtype('O'))"
      ]
     },
     "execution_count": 41,
     "metadata": {},
     "output_type": "execute_result"
    }
   ],
   "source": [
    "import numpy as np\n",
    "\n",
    "np.array([0, 1, 2]).dtype, np.array([0, 1, 2, None]).dtype"
   ]
  },
  {
   "cell_type": "markdown",
   "id": "15deb270",
   "metadata": {},
   "source": [
    "We see the same behavior with boolean columns, where the whole column will also be converted to `object` dtype:"
   ]
  },
  {
   "cell_type": "code",
   "execution_count": null,
   "id": "57470fd4",
   "metadata": {},
   "outputs": [],
   "source": [
    "np.array([True, False]).dtype, np.array([True, False, None]).dtype"
   ]
  },
  {
   "cell_type": "markdown",
   "id": "c8e63b5c",
   "metadata": {},
   "source": [
    "pandas 2.0 introduced optional usage of Arrow data types instead of numpy, in which all data types are nullable.\n",
    "\n",
    "However, when creating a new DataFrame, it's only possible to specify the dtype of the entire\n",
    "DataFrame, not individual columns, which is limits the usefulness: "
   ]
  },
  {
   "cell_type": "code",
   "execution_count": 36,
   "id": "9135259b",
   "metadata": {},
   "outputs": [
    {
     "data": {
      "text/html": [
       "<div>\n",
       "<style scoped>\n",
       "    .dataframe tbody tr th:only-of-type {\n",
       "        vertical-align: middle;\n",
       "    }\n",
       "\n",
       "    .dataframe tbody tr th {\n",
       "        vertical-align: top;\n",
       "    }\n",
       "\n",
       "    .dataframe thead th {\n",
       "        text-align: right;\n",
       "    }\n",
       "</style>\n",
       "<table border=\"1\" class=\"dataframe\">\n",
       "  <thead>\n",
       "    <tr style=\"text-align: right;\">\n",
       "      <th></th>\n",
       "      <th>stim_number</th>\n",
       "    </tr>\n",
       "  </thead>\n",
       "  <tbody>\n",
       "    <tr>\n",
       "      <th>0</th>\n",
       "      <td>0</td>\n",
       "    </tr>\n",
       "    <tr>\n",
       "      <th>1</th>\n",
       "      <td>1</td>\n",
       "    </tr>\n",
       "    <tr>\n",
       "      <th>2</th>\n",
       "      <td>2</td>\n",
       "    </tr>\n",
       "    <tr>\n",
       "      <th>3</th>\n",
       "      <td>&lt;NA&gt;</td>\n",
       "    </tr>\n",
       "  </tbody>\n",
       "</table>\n",
       "</div>"
      ],
      "text/plain": [
       "   stim_number\n",
       "0            0\n",
       "1            1\n",
       "2            2\n",
       "3         <NA>"
      ]
     },
     "execution_count": 36,
     "metadata": {},
     "output_type": "execute_result"
    }
   ],
   "source": [
    "pd.DataFrame({'stim_number': [0, 1, 2, None]}, dtype='int16[pyarrow]')"
   ]
  },
  {
   "cell_type": "code",
   "execution_count": 44,
   "id": "62480347",
   "metadata": {},
   "outputs": [
    {
     "data": {
      "text/plain": [
       "dtype('O')"
      ]
     },
     "execution_count": 44,
     "metadata": {},
     "output_type": "execute_result"
    }
   ],
   "source": [
    "np.array([True, False, None]).dtype"
   ]
  },
  {
   "cell_type": "markdown",
   "id": "1f31fc5f",
   "metadata": {},
   "source": [
    "polars is built on top of Arrow, so it has nullable data types by default:\n",
    "\n",
    "(we can also specify the\n",
    "dtype of individual columns when creating a DataFrame in case we want something other than the\n",
    "default, which would be int64 in this case)"
   ]
  },
  {
   "cell_type": "code",
   "execution_count": 47,
   "id": "d38ab8dc",
   "metadata": {},
   "outputs": [
    {
     "data": {
      "text/html": [
       "<div><style>\n",
       ".dataframe > thead > tr,\n",
       ".dataframe > tbody > tr {\n",
       "  text-align: right;\n",
       "  white-space: pre-wrap;\n",
       "}\n",
       "</style>\n",
       "<small>shape: (4, 1)</small><table border=\"1\" class=\"dataframe\"><thead><tr><th>stim_number</th></tr><tr><td>u16</td></tr></thead><tbody><tr><td>0</td></tr><tr><td>1</td></tr><tr><td>2</td></tr><tr><td>null</td></tr></tbody></table></div>"
      ],
      "text/plain": [
       "shape: (4, 1)\n",
       "┌─────────────┐\n",
       "│ stim_number │\n",
       "│ ---         │\n",
       "│ u16         │\n",
       "╞═════════════╡\n",
       "│ 0           │\n",
       "│ 1           │\n",
       "│ 2           │\n",
       "│ null        │\n",
       "└─────────────┘"
      ]
     },
     "execution_count": 47,
     "metadata": {},
     "output_type": "execute_result"
    }
   ],
   "source": [
    "pl.DataFrame({'stim_number': [0, 1, 2, None]}, schema={'stim_number': pl.UInt16})"
   ]
  },
  {
   "cell_type": "markdown",
   "id": "6bf80202",
   "metadata": {},
   "source": [
    "---\n",
    "\n",
    "## No index\n",
    "\n",
    "In pandas, we generally use and index to refer to rows or use a Boolean mask to filter rows, which relies on the order of rows to not change.\n",
    "\n",
    "In polars, we don't have an index, and instead we use expressions to refer to columns in the DataFrame and their values, indpendent of the order of rows.\n",
    "\n",
    "This is similar to the pandas `.query()` method, but with a more comprehensive functionality.\n",
    "\n",
    "Here are the basics:\n"
   ]
  },
  {
   "cell_type": "code",
   "execution_count": 66,
   "id": "9b67d774",
   "metadata": {},
   "outputs": [],
   "source": [
    "df  = pl.DataFrame(\n",
    "    {\n",
    "        'stim_number': [0, 1, 2, None], \n",
    "        'stim_name': ['a', 'a', 'b', 'a'],\n",
    "    }\n",
    ")"
   ]
  },
  {
   "cell_type": "code",
   "execution_count": null,
   "id": "3d2709e7",
   "metadata": {},
   "outputs": [
    {
     "data": {
      "text/html": [
       "<div><style>\n",
       ".dataframe > thead > tr,\n",
       ".dataframe > tbody > tr {\n",
       "  text-align: right;\n",
       "  white-space: pre-wrap;\n",
       "}\n",
       "</style>\n",
       "<small>shape: (1, 2)</small><table border=\"1\" class=\"dataframe\"><thead><tr><th>stim_number</th><th>stim_name</th></tr><tr><td>i64</td><td>str</td></tr></thead><tbody><tr><td>1</td><td>&quot;a&quot;</td></tr></tbody></table></div>"
      ],
      "text/plain": [
       "shape: (1, 2)\n",
       "┌─────────────┬───────────┐\n",
       "│ stim_number ┆ stim_name │\n",
       "│ ---         ┆ ---       │\n",
       "│ i64         ┆ str       │\n",
       "╞═════════════╪═══════════╡\n",
       "│ 1           ┆ a         │\n",
       "└─────────────┴───────────┘"
      ]
     },
     "execution_count": 67,
     "metadata": {},
     "output_type": "execute_result"
    }
   ],
   "source": [
    "(\n",
    "    df\n",
    "    .filter(\n",
    "        # all comma-separated expressions are combined with AND\n",
    "        # so the following keep rows that meet both conditions:\n",
    "        pl.col('stim_name') == 'a',\n",
    "        pl.col('stim_number') > 0,\n",
    "    )\n",
    ")"
   ]
  },
  {
   "cell_type": "code",
   "execution_count": 69,
   "id": "31c7936a",
   "metadata": {},
   "outputs": [
    {
     "data": {
      "text/html": [
       "<div><style>\n",
       ".dataframe > thead > tr,\n",
       ".dataframe > tbody > tr {\n",
       "  text-align: right;\n",
       "  white-space: pre-wrap;\n",
       "}\n",
       "</style>\n",
       "<small>shape: (3, 2)</small><table border=\"1\" class=\"dataframe\"><thead><tr><th>stim_number</th><th>stim_name</th></tr><tr><td>i64</td><td>str</td></tr></thead><tbody><tr><td>0</td><td>&quot;a&quot;</td></tr><tr><td>1</td><td>&quot;a&quot;</td></tr><tr><td>2</td><td>&quot;b&quot;</td></tr></tbody></table></div>"
      ],
      "text/plain": [
       "shape: (3, 2)\n",
       "┌─────────────┬───────────┐\n",
       "│ stim_number ┆ stim_name │\n",
       "│ ---         ┆ ---       │\n",
       "│ i64         ┆ str       │\n",
       "╞═════════════╪═══════════╡\n",
       "│ 0           ┆ a         │\n",
       "│ 1           ┆ a         │\n",
       "│ 2           ┆ b         │\n",
       "└─────────────┴───────────┘"
      ]
     },
     "execution_count": 69,
     "metadata": {},
     "output_type": "execute_result"
    }
   ],
   "source": [
    "(\n",
    "    df\n",
    "    .filter(\n",
    "        # we can do OR operations to keep rows that fulfil either condition below:\n",
    "        (pl.col('stim_name') == 'a') | (pl.col('stim_number') > 0),\n",
    "        # plus an additional condition:\n",
    "        pl.col('stim_number').is_not_null(),\n",
    "    )\n",
    ")"
   ]
  },
  {
   "cell_type": "markdown",
   "id": "4ad69d74",
   "metadata": {},
   "source": [
    "(the `pl.col()` function is explained further below)"
   ]
  },
  {
   "cell_type": "markdown",
   "id": "635bb65b",
   "metadata": {},
   "source": [
    "---\n",
    "\n",
    "## Polars queries\n",
    "\n",
    "Here's a typical operation in polars using real data in parquet files. \n",
    "\n",
    "Try commenting out all but the first line, then add back one method at a time to see how what the output looks like at each step:"
   ]
  },
  {
   "cell_type": "code",
   "execution_count": 53,
   "id": "b93e4ee0",
   "metadata": {},
   "outputs": [
    {
     "data": {
      "text/html": [
       "<div><style>\n",
       ".dataframe > thead > tr,\n",
       ".dataframe > tbody > tr {\n",
       "  text-align: right;\n",
       "  white-space: pre-wrap;\n",
       "}\n",
       "</style>\n",
       "<small>shape: (6, 4)</small><table border=\"1\" class=\"dataframe\"><thead><tr><th>block_index</th><th>block_duration</th><th>signed_cross_modality_dprime</th><th>subject_id</th></tr><tr><td>i64</td><td>f64</td><td>f64</td><td>i64</td></tr></thead><tbody><tr><td>0</td><td>603.68899</td><td>2.224615</td><td>703880</td></tr><tr><td>1</td><td>601.10347</td><td>1.769163</td><td>703880</td></tr><tr><td>2</td><td>604.8567</td><td>2.639312</td><td>703880</td></tr><tr><td>3</td><td>602.07098</td><td>2.102846</td><td>703880</td></tr><tr><td>4</td><td>605.50716</td><td>2.626949</td><td>703880</td></tr><tr><td>5</td><td>597.18357</td><td>1.232238</td><td>703880</td></tr></tbody></table></div>"
      ],
      "text/plain": [
       "shape: (6, 4)\n",
       "┌─────────────┬────────────────┬──────────────────────────────┬────────────┐\n",
       "│ block_index ┆ block_duration ┆ signed_cross_modality_dprime ┆ subject_id │\n",
       "│ ---         ┆ ---            ┆ ---                          ┆ ---        │\n",
       "│ i64         ┆ f64            ┆ f64                          ┆ i64        │\n",
       "╞═════════════╪════════════════╪══════════════════════════════╪════════════╡\n",
       "│ 0           ┆ 603.68899      ┆ 2.224615                     ┆ 703880     │\n",
       "│ 1           ┆ 601.10347      ┆ 1.769163                     ┆ 703880     │\n",
       "│ 2           ┆ 604.8567       ┆ 2.639312                     ┆ 703880     │\n",
       "│ 3           ┆ 602.07098      ┆ 2.102846                     ┆ 703880     │\n",
       "│ 4           ┆ 605.50716      ┆ 2.626949                     ┆ 703880     │\n",
       "│ 5           ┆ 597.18357      ┆ 1.232238                     ┆ 703880     │\n",
       "└─────────────┴────────────────┴──────────────────────────────┴────────────┘"
      ]
     },
     "execution_count": 53,
     "metadata": {},
     "output_type": "execute_result"
    }
   ],
   "source": [
    "(\n",
    "    pl.read_parquet(CONSOLIDATED_DIR / 'session.parquet')\n",
    "    .join(\n",
    "        pl.read_parquet(CONSOLIDATED_DIR / 'performance.parquet'),\n",
    "        on='session_id',\n",
    "        how='left',\n",
    "    )\n",
    "    .filter(\n",
    "        pl.col('keywords').list.contains('production'),\n",
    "    )\n",
    "    .group_by('session_id')\n",
    "    .agg(\n",
    "        pl.all(), # <-- all columns will be retained, and the values for each session will be turned into a list \n",
    "        pl.col('signed_cross_modality_dprime').mean().alias('mean_signed_cross_modality_dprime'),\n",
    "    )\n",
    "    .filter(\n",
    "        pl.col('mean_signed_cross_modality_dprime') > 2.0,\n",
    "    )\n",
    "    .with_columns(\n",
    "        (pl.col('stop_time') - pl.col('start_time')).alias('block_duration'),\n",
    "    )\n",
    "    .select(\n",
    "        'block_index', \n",
    "        'block_duration',\n",
    "        'signed_cross_modality_dprime',\n",
    "        pl.col('subject_id').list.first(), # since all subject_id are the same for a particular session, we can use the first entry in the list\n",
    "    )\n",
    "    .explode('block_index', 'block_duration', 'signed_cross_modality_dprime')\n",
    "    .sort('block_index')\n",
    ")"
   ]
  },
  {
   "cell_type": "markdown",
   "id": "219a12b6",
   "metadata": {},
   "source": [
    "### Streamlined version\n",
    "\n",
    "We can write the query above without the group_by/agg operation, which is easier to\n",
    "read and doesn't require us to deal with list columns:"
   ]
  },
  {
   "cell_type": "code",
   "execution_count": null,
   "id": "846a8b47",
   "metadata": {},
   "outputs": [
    {
     "data": {
      "text/html": [
       "<div><style>\n",
       ".dataframe > thead > tr,\n",
       ".dataframe > tbody > tr {\n",
       "  text-align: right;\n",
       "  white-space: pre-wrap;\n",
       "}\n",
       "</style>\n",
       "<small>shape: (6, 4)</small><table border=\"1\" class=\"dataframe\"><thead><tr><th>block_index</th><th>block_duration</th><th>signed_cross_modality_dprime</th><th>subject_id</th></tr><tr><td>i64</td><td>f64</td><td>f64</td><td>i64</td></tr></thead><tbody><tr><td>0</td><td>603.68899</td><td>2.224615</td><td>703880</td></tr><tr><td>1</td><td>601.10347</td><td>1.769163</td><td>703880</td></tr><tr><td>2</td><td>604.8567</td><td>2.639312</td><td>703880</td></tr><tr><td>3</td><td>602.07098</td><td>2.102846</td><td>703880</td></tr><tr><td>4</td><td>605.50716</td><td>2.626949</td><td>703880</td></tr><tr><td>5</td><td>597.18357</td><td>1.232238</td><td>703880</td></tr></tbody></table></div>"
      ],
      "text/plain": [
       "shape: (6, 4)\n",
       "┌─────────────┬────────────────┬──────────────────────────────┬────────────┐\n",
       "│ block_index ┆ block_duration ┆ signed_cross_modality_dprime ┆ subject_id │\n",
       "│ ---         ┆ ---            ┆ ---                          ┆ ---        │\n",
       "│ i64         ┆ f64            ┆ f64                          ┆ i64        │\n",
       "╞═════════════╪════════════════╪══════════════════════════════╪════════════╡\n",
       "│ 0           ┆ 603.68899      ┆ 2.224615                     ┆ 703880     │\n",
       "│ 1           ┆ 601.10347      ┆ 1.769163                     ┆ 703880     │\n",
       "│ 2           ┆ 604.8567       ┆ 2.639312                     ┆ 703880     │\n",
       "│ 3           ┆ 602.07098      ┆ 2.102846                     ┆ 703880     │\n",
       "│ 4           ┆ 605.50716      ┆ 2.626949                     ┆ 703880     │\n",
       "│ 5           ┆ 597.18357      ┆ 1.232238                     ┆ 703880     │\n",
       "└─────────────┴────────────────┴──────────────────────────────┴────────────┘"
      ]
     },
     "execution_count": 55,
     "metadata": {},
     "output_type": "execute_result"
    }
   ],
   "source": [
    "(\n",
    "    pl.read_parquet(CONSOLIDATED_DIR / 'session.parquet')\n",
    "    .join(\n",
    "        pl.read_parquet(CONSOLIDATED_DIR / 'performance.parquet'),\n",
    "        on='session_id',\n",
    "        how='left',\n",
    "    )\n",
    "    .filter(\n",
    "        pl.col('keywords').list.contains('production'),\n",
    "        pl.col('signed_cross_modality_dprime').mean().over('session_id') > 2.0, # <-- for each row, only consider the other rows with the same session_id\n",
    "    )\n",
    "    .with_columns(\n",
    "        (pl.col('stop_time') - pl.col('start_time')).alias('block_duration'),\n",
    "    )\n",
    "    .select('block_index', 'block_duration', 'signed_cross_modality_dprime', 'subject_id')\n",
    "    .sort('block_index')\n",
    ")"
   ]
  },
  {
   "cell_type": "markdown",
   "id": "aaf8b75d",
   "metadata": {},
   "source": [
    "---\n",
    "## Expressions\n",
    "\n",
    "In the queries above, we used the `pl.col()` to refer to columns in the DataFrame.\n",
    "This is a powerful feature of polars that allows us to build complex queries using expressions alone, rather than DataFrame methods.\n",
    "\n",
    "- expressions are independent of the DataFrame, and can be used to build queries that can be applied to any DataFrame: the column names are resolved at query time, not when the expression is created\n",
    "- expressions are composable and reusable"
   ]
  },
  {
   "cell_type": "code",
   "execution_count": 60,
   "id": "5a04523f",
   "metadata": {},
   "outputs": [
    {
     "data": {
      "text/html": [
       "[(col(\"signed_cross_modality_dprime\").mean().over([col(\"session_id\")])) > (dyn float: 2)]"
      ],
      "text/plain": [
       "<Expr ['[(col(\"signed_cross_modality_d…'] at 0x1778C5CBB50>"
      ]
     },
     "execution_count": 60,
     "metadata": {},
     "output_type": "execute_result"
    }
   ],
   "source": [
    "from polars import Expr\n",
    "\n",
    "\n",
    "dprime_col: Expr = pl.col('signed_cross_modality_dprime')\n",
    "dprime_expr: Expr = dprime_col.mean().over('session_id') > 2.0\n",
    "\n",
    "dprime_expr"
   ]
  },
  {
   "cell_type": "code",
   "execution_count": 61,
   "id": "35ca14c6",
   "metadata": {},
   "outputs": [
    {
     "data": {
      "image/svg+xml": [
       "<svg xmlns=\"http://www.w3.org/2000/svg\" xmlns:xlink=\"http://www.w3.org/1999/xlink\" width=\"308pt\" height=\"260pt\" viewBox=\"0.00 0.00 308.00 260.00\">\n",
       "<g id=\"graph0\" class=\"graph\" transform=\"scale(1 1) rotate(0) translate(4 256)\">\n",
       "<polygon fill=\"white\" stroke=\"none\" points=\"-4,4 -4,-256 303.88,-256 303.88,4 -4,4\"/>\n",
       "<!-- n00 -->\n",
       "<g id=\"node1\" class=\"node\">\n",
       "<title>n00</title>\n",
       "<polygon fill=\"none\" stroke=\"black\" points=\"234.38,-252 168.12,-252 168.12,-216 234.38,-216 234.38,-252\"/>\n",
       "<text xml:space=\"preserve\" text-anchor=\"middle\" x=\"201.25\" y=\"-228.95\" font-family=\"Times New Roman,serif\" font-size=\"14.00\">binary: &gt;</text>\n",
       "</g>\n",
       "<!-- n11 -->\n",
       "<g id=\"node2\" class=\"node\">\n",
       "<title>n11</title>\n",
       "<polygon fill=\"none\" stroke=\"black\" points=\"183,-180 123.5,-180 123.5,-144 183,-144 183,-180\"/>\n",
       "<text xml:space=\"preserve\" text-anchor=\"middle\" x=\"153.25\" y=\"-156.95\" font-family=\"Times New Roman,serif\" font-size=\"14.00\">window</text>\n",
       "</g>\n",
       "<!-- n00&#45;&#45;n11 -->\n",
       "<g id=\"edge1\" class=\"edge\">\n",
       "<title>n00--n11</title>\n",
       "<path fill=\"none\" stroke=\"black\" d=\"M189.38,-215.7C181.94,-204.85 172.39,-190.92 164.98,-180.1\"/>\n",
       "</g>\n",
       "<!-- n10 -->\n",
       "<g id=\"node3\" class=\"node\">\n",
       "<title>n10</title>\n",
       "<polygon fill=\"none\" stroke=\"black\" points=\"299.88,-180 200.62,-180 200.62,-144 299.88,-144 299.88,-180\"/>\n",
       "<text xml:space=\"preserve\" text-anchor=\"middle\" x=\"250.25\" y=\"-156.95\" font-family=\"Times New Roman,serif\" font-size=\"14.00\">lit(dyn float: 2)</text>\n",
       "</g>\n",
       "<!-- n00&#45;&#45;n10 -->\n",
       "<g id=\"edge2\" class=\"edge\">\n",
       "<title>n00--n10</title>\n",
       "<path fill=\"none\" stroke=\"black\" d=\"M213.36,-215.7C220.96,-204.85 230.71,-190.92 238.28,-180.1\"/>\n",
       "</g>\n",
       "<!-- n22 -->\n",
       "<g id=\"node4\" class=\"node\">\n",
       "<title>n22</title>\n",
       "<polygon fill=\"none\" stroke=\"black\" points=\"133.25,-108 79.25,-108 79.25,-72 133.25,-72 133.25,-108\"/>\n",
       "<text xml:space=\"preserve\" text-anchor=\"middle\" x=\"106.25\" y=\"-84.95\" font-family=\"Times New Roman,serif\" font-size=\"14.00\">mean</text>\n",
       "</g>\n",
       "<!-- n11&#45;&#45;n22 -->\n",
       "<g id=\"edge3\" class=\"edge\">\n",
       "<title>n11--n22</title>\n",
       "<path fill=\"none\" stroke=\"black\" d=\"M141.63,-143.7C134.35,-132.85 124.99,-118.92 117.73,-108.1\"/>\n",
       "</g>\n",
       "<!-- n21 -->\n",
       "<g id=\"node5\" class=\"node\">\n",
       "<title>n21</title>\n",
       "<polygon fill=\"none\" stroke=\"black\" points=\"249.12,-108 151.38,-108 151.38,-72 249.12,-72 249.12,-108\"/>\n",
       "<text xml:space=\"preserve\" text-anchor=\"middle\" x=\"200.25\" y=\"-84.95\" font-family=\"Times New Roman,serif\" font-size=\"14.00\">col(session_id)</text>\n",
       "</g>\n",
       "<!-- n11&#45;&#45;n21 -->\n",
       "<g id=\"edge4\" class=\"edge\">\n",
       "<title>n11--n21</title>\n",
       "<path fill=\"none\" stroke=\"black\" d=\"M164.87,-143.7C172.15,-132.85 181.51,-118.92 188.77,-108.1\"/>\n",
       "</g>\n",
       "<!-- n32 -->\n",
       "<g id=\"node6\" class=\"node\">\n",
       "<title>n32</title>\n",
       "<polygon fill=\"none\" stroke=\"black\" points=\"212.5,-36 0,-36 0,0 212.5,0 212.5,-36\"/>\n",
       "<text xml:space=\"preserve\" text-anchor=\"middle\" x=\"106.25\" y=\"-12.95\" font-family=\"Times New Roman,serif\" font-size=\"14.00\">col(signed_cross_modality_dprime)</text>\n",
       "</g>\n",
       "<!-- n22&#45;&#45;n32 -->\n",
       "<g id=\"edge5\" class=\"edge\">\n",
       "<title>n22--n32</title>\n",
       "<path fill=\"none\" stroke=\"black\" d=\"M106.25,-71.7C106.25,-60.85 106.25,-46.92 106.25,-36.1\"/>\n",
       "</g>\n",
       "</g>\n",
       "</svg>"
      ],
      "text/plain": [
       "<IPython.core.display.SVG object>"
      ]
     },
     "metadata": {},
     "output_type": "display_data"
    }
   ],
   "source": [
    "dprime_expr.meta.show_graph()"
   ]
  },
  {
   "cell_type": "markdown",
   "id": "78300d65",
   "metadata": {},
   "source": [
    "Expressions can also be serialized, which can be useful for configuring analysis pipelines or for reproducibility:"
   ]
  },
  {
   "cell_type": "code",
   "execution_count": 62,
   "id": "456ccbda",
   "metadata": {},
   "outputs": [
    {
     "data": {
      "text/plain": [
       "'{\"Function\":{\"input\":[{\"Function\":{\"input\":[{\"Eval\":{\"expr\":{\"Column\":\"coords\"},\"evaluation\":{\"Function\":{\"input\":[{\"Column\":\"\"},{\"Literal\":{\"Dyn\":{\"Int\":2}}}],\"function\":{\"Pow\":\"Generic\"}}},\"variant\":\"List\"}}],\"function\":{\"ListExpr\":\"Sum\"}}}],\"function\":{\"Pow\":\"Sqrt\"}}}'"
      ]
     },
     "execution_count": 62,
     "metadata": {},
     "output_type": "execute_result"
    }
   ],
   "source": [
    "norm_expr.meta.serialize(format='json')"
   ]
  },
  {
   "cell_type": "markdown",
   "id": "7f5819c7",
   "metadata": {},
   "source": [
    "All of the operaters (> < = != & | etc.) are also available as methods on the `pl.Expr` object,\n",
    "which can avoid writing many parentheses, but is arguably less readable:"
   ]
  },
  {
   "cell_type": "code",
   "execution_count": null,
   "id": "cb6d2a85",
   "metadata": {},
   "outputs": [],
   "source": [
    "pl.col('stim_name').eq('a')\n",
    "pl.col('stim_number').sum().gt(1).over('stim_name')"
   ]
  },
  {
   "cell_type": "markdown",
   "id": "d88928ab",
   "metadata": {},
   "source": [
    "---\n",
    "## Lazy evaluation\n",
    "\n",
    "A powerful feature of polars is it's high-performance query engine, written in Rust, which optimizes queries before executing them.\n",
    "We can write queries with multiple operations and polars will figure out the most efficient way to execute them.\n",
    "\n",
    "When using a `DataFrame`, this is done seemlessly. Behind the scenes, polars uses a `LazyFrame` to build a query plan. \n",
    "We can also create and use `LazyFrame` objects directly, which allows us to build queries that only read in the minimal amount of data required.\n",
    "\n",
    "For example, where we previously used `pl.read_parquet()` to load all data in a file into memory as a `DataFrame`, we now use `pl.scan_parquet()` to create a `LazyFrame`:"
   ]
  },
  {
   "cell_type": "code",
   "execution_count": null,
   "id": "0650a0d8",
   "metadata": {},
   "outputs": [
    {
     "data": {
      "text/html": [
       "<h4>NAIVE QUERY PLAN</h4><p>run <b>LazyFrame.show_graph()</b> to see the optimized version</p><?xml version=\"1.0\" encoding=\"UTF-8\" standalone=\"no\"?>\r\n",
       "<!DOCTYPE svg PUBLIC \"-//W3C//DTD SVG 1.1//EN\"\r\n",
       " \"http://www.w3.org/Graphics/SVG/1.1/DTD/svg11.dtd\">\r\n",
       "<!-- Generated by graphviz version 13.1.0 (20250701.0955)\r\n",
       " -->\r\n",
       "<!-- Title: polars_query Pages: 1 -->\r\n",
       "<svg width=\"518pt\" height=\"49pt\"\r\n",
       " viewBox=\"0.00 0.00 518.00 49.00\" xmlns=\"http://www.w3.org/2000/svg\" xmlns:xlink=\"http://www.w3.org/1999/xlink\">\r\n",
       "<g id=\"graph0\" class=\"graph\" transform=\"scale(1 1) rotate(0) translate(4 45)\">\r\n",
       "<title>polars_query</title>\r\n",
       "<polygon fill=\"white\" stroke=\"none\" points=\"-4,4 -4,-45 513.5,-45 513.5,4 -4,4\"/>\r\n",
       "<!-- p1 -->\r\n",
       "<g id=\"node1\" class=\"node\">\r\n",
       "<title>p1</title>\r\n",
       "<polygon fill=\"none\" stroke=\"black\" points=\"509.5,-41 0,-41 0,0 509.5,0 509.5,-41\"/>\r\n",
       "<text xml:space=\"preserve\" text-anchor=\"middle\" x=\"254.75\" y=\"-23.7\" font-family=\"Times New Roman,serif\" font-size=\"14.00\">Parquet SCAN [datadynamicrouting_datacube_v0.0.268consolidatedperformance.parquet]</text>\r\n",
       "<text xml:space=\"preserve\" text-anchor=\"middle\" x=\"254.75\" y=\"-7.2\" font-family=\"Times New Roman,serif\" font-size=\"14.00\">π */25;</text>\r\n",
       "</g>\r\n",
       "</g>\r\n",
       "</svg>\r\n"
      ],
      "text/plain": [
       "<LazyFrame at 0x1778C6FA350>"
      ]
     },
     "execution_count": 72,
     "metadata": {},
     "output_type": "execute_result"
    }
   ],
   "source": [
    "lf = pl.scan_parquet(CONSOLIDATED_DIR / 'performance.parquet')\n",
    "\n",
    "lf"
   ]
  },
  {
   "cell_type": "markdown",
   "id": "56b19b2d",
   "metadata": {},
   "source": [
    "At this stage, there is no data, just metadata and a query plan, which says to simply read all 25\n",
    "columns.\n",
    "\n",
    "If we try to get data from the `LazyFrame` it will fail:"
   ]
  },
  {
   "cell_type": "code",
   "execution_count": 73,
   "id": "aee188a2",
   "metadata": {},
   "outputs": [
    {
     "ename": "TypeError",
     "evalue": "LazyFrame is not subscriptable (aside from slicing)\n\nUse `select()` or `filter()` instead.",
     "output_type": "error",
     "traceback": [
      "\u001b[31m---------------------------------------------------------------------------\u001b[39m",
      "\u001b[31mTypeError\u001b[39m                                 Traceback (most recent call last)",
      "\u001b[36mCell\u001b[39m\u001b[36m \u001b[39m\u001b[32mIn[73]\u001b[39m\u001b[32m, line 1\u001b[39m\n\u001b[32m----> \u001b[39m\u001b[32m1\u001b[39m \u001b[43mlf\u001b[49m\u001b[43m[\u001b[49m\u001b[33;43m'\u001b[39;49m\u001b[33;43msession_id\u001b[39;49m\u001b[33;43m'\u001b[39;49m\u001b[43m]\u001b[49m\n",
      "\u001b[36mFile \u001b[39m\u001b[32mc:\\Users\\ben.hardcastle\\github\\cat_polars\\.venv\\Lib\\site-packages\\polars\\lazyframe\\frame.py:760\u001b[39m, in \u001b[36mLazyFrame.__getitem__\u001b[39m\u001b[34m(self, item)\u001b[39m\n\u001b[32m    755\u001b[39m \u001b[38;5;28;01mif\u001b[39;00m \u001b[38;5;129;01mnot\u001b[39;00m \u001b[38;5;28misinstance\u001b[39m(item, \u001b[38;5;28mslice\u001b[39m):\n\u001b[32m    756\u001b[39m     msg = (\n\u001b[32m    757\u001b[39m         \u001b[33m\"\u001b[39m\u001b[33mLazyFrame is not subscriptable (aside from slicing)\u001b[39m\u001b[33m\"\u001b[39m\n\u001b[32m    758\u001b[39m         \u001b[33m\"\u001b[39m\u001b[38;5;130;01m\\n\u001b[39;00m\u001b[38;5;130;01m\\n\u001b[39;00m\u001b[33mUse `select()` or `filter()` instead.\u001b[39m\u001b[33m\"\u001b[39m\n\u001b[32m    759\u001b[39m     )\n\u001b[32m--> \u001b[39m\u001b[32m760\u001b[39m     \u001b[38;5;28;01mraise\u001b[39;00m \u001b[38;5;167;01mTypeError\u001b[39;00m(msg)\n\u001b[32m    761\u001b[39m \u001b[38;5;28;01mreturn\u001b[39;00m LazyPolarsSlice(\u001b[38;5;28mself\u001b[39m).apply(item)\n",
      "\u001b[31mTypeError\u001b[39m: LazyFrame is not subscriptable (aside from slicing)\n\nUse `select()` or `filter()` instead."
     ]
    }
   ],
   "source": [
    "lf['session_id']"
   ]
  },
  {
   "cell_type": "markdown",
   "id": "ffb41fb9",
   "metadata": {},
   "source": [
    "We can otherwise treat a `LazyFrame` like a `DataFrame`, but it will not execute the query until we\n",
    "call `.collect()` to materialize the data. \n",
    "\n",
    "It will, however, alert us if we try to access a column that doesn't exist:"
   ]
  },
  {
   "cell_type": "code",
   "execution_count": null,
   "id": "9adb5126",
   "metadata": {},
   "outputs": [
    {
     "ename": "ColumnNotFoundError",
     "evalue": "unable to find column \"keywords\"; valid columns: [\"start_time\", \"stop_time\", \"block_index\", \"n_trials\", \"n_responses\", \"n_hits\", \"n_contingent_rewards\", \"hit_rate\", \"false_alarm_rate\", \"catch_response_rate\", \"rewarded_modality\", \"is_first_block_aud\", \"cross_modality_dprime\", \"signed_cross_modality_dprime\", \"vis_dprime\", \"aud_dprime\", \"vis_target_response_rate\", \"vis_nontarget_response_rate\", \"aud_target_response_rate\", \"aud_nontarget_response_rate\", \"session_idx\", \"date\", \"subject_id\", \"session_id\", \"id\"]\n\nResolved plan until failure:\n\n\t---> FAILED HERE RESOLVING 'sort' <---\nParquet SCAN [data\\dynamicrouting_datacube_v0.0.268\\consolidated\\performance.parquet] [id: 3239446728752]\nPROJECT */25 COLUMNS",
     "output_type": "error",
     "traceback": [
      "\u001b[31m---------------------------------------------------------------------------\u001b[39m",
      "\u001b[31mColumnNotFoundError\u001b[39m                       Traceback (most recent call last)",
      "\u001b[36mFile \u001b[39m\u001b[32mc:\\Users\\ben.hardcastle\\github\\cat_polars\\.venv\\Lib\\site-packages\\polars\\lazyframe\\frame.py:776\u001b[39m, in \u001b[36mLazyFrame._repr_html_\u001b[39m\u001b[34m(self)\u001b[39m\n\u001b[32m    775\u001b[39m \u001b[38;5;28;01mtry\u001b[39;00m:\n\u001b[32m--> \u001b[39m\u001b[32m776\u001b[39m     dot = \u001b[38;5;28;43mself\u001b[39;49m\u001b[43m.\u001b[49m\u001b[43m_ldf\u001b[49m\u001b[43m.\u001b[49m\u001b[43mto_dot\u001b[49m\u001b[43m(\u001b[49m\u001b[43moptimized\u001b[49m\u001b[43m=\u001b[49m\u001b[38;5;28;43;01mFalse\u001b[39;49;00m\u001b[43m)\u001b[49m\n\u001b[32m    777\u001b[39m     svg = subprocess.check_output(\n\u001b[32m    778\u001b[39m         [\u001b[33m\"\u001b[39m\u001b[33mdot\u001b[39m\u001b[33m\"\u001b[39m, \u001b[33m\"\u001b[39m\u001b[33m-Nshape=box\u001b[39m\u001b[33m\"\u001b[39m, \u001b[33m\"\u001b[39m\u001b[33m-Tsvg\u001b[39m\u001b[33m\"\u001b[39m], \u001b[38;5;28minput\u001b[39m=\u001b[33mf\u001b[39m\u001b[33m\"\u001b[39m\u001b[38;5;132;01m{\u001b[39;00mdot\u001b[38;5;132;01m}\u001b[39;00m\u001b[33m\"\u001b[39m.encode()\n\u001b[32m    779\u001b[39m     )\n",
      "\u001b[31mColumnNotFoundError\u001b[39m: unable to find column \"keywords\"; valid columns: [\"start_time\", \"stop_time\", \"block_index\", \"n_trials\", \"n_responses\", \"n_hits\", \"n_contingent_rewards\", \"hit_rate\", \"false_alarm_rate\", \"catch_response_rate\", \"rewarded_modality\", \"is_first_block_aud\", \"cross_modality_dprime\", \"signed_cross_modality_dprime\", \"vis_dprime\", \"aud_dprime\", \"vis_target_response_rate\", \"vis_nontarget_response_rate\", \"aud_target_response_rate\", \"aud_nontarget_response_rate\", \"session_idx\", \"date\", \"subject_id\", \"session_id\", \"id\"]\n\nResolved plan until failure:\n\n\t---> FAILED HERE RESOLVING 'sort' <---\nParquet SCAN [data\\dynamicrouting_datacube_v0.0.268\\consolidated\\performance.parquet] [id: 3239446728752]\nPROJECT */25 COLUMNS",
      "\nDuring handling of the above exception, another exception occurred:\n",
      "\u001b[31mColumnNotFoundError\u001b[39m                       Traceback (most recent call last)",
      "\u001b[36mFile \u001b[39m\u001b[32mc:\\Users\\ben.hardcastle\\github\\cat_polars\\.venv\\Lib\\site-packages\\IPython\\core\\formatters.py:406\u001b[39m, in \u001b[36mBaseFormatter.__call__\u001b[39m\u001b[34m(self, obj)\u001b[39m\n\u001b[32m    404\u001b[39m     method = get_real_method(obj, \u001b[38;5;28mself\u001b[39m.print_method)\n\u001b[32m    405\u001b[39m     \u001b[38;5;28;01mif\u001b[39;00m method \u001b[38;5;129;01mis\u001b[39;00m \u001b[38;5;129;01mnot\u001b[39;00m \u001b[38;5;28;01mNone\u001b[39;00m:\n\u001b[32m--> \u001b[39m\u001b[32m406\u001b[39m         \u001b[38;5;28;01mreturn\u001b[39;00m \u001b[43mmethod\u001b[49m\u001b[43m(\u001b[49m\u001b[43m)\u001b[49m\n\u001b[32m    407\u001b[39m     \u001b[38;5;28;01mreturn\u001b[39;00m \u001b[38;5;28;01mNone\u001b[39;00m\n\u001b[32m    408\u001b[39m \u001b[38;5;28;01melse\u001b[39;00m:\n",
      "\u001b[36mFile \u001b[39m\u001b[32mc:\\Users\\ben.hardcastle\\github\\cat_polars\\.venv\\Lib\\site-packages\\polars\\lazyframe\\frame.py:785\u001b[39m, in \u001b[36mLazyFrame._repr_html_\u001b[39m\u001b[34m(self)\u001b[39m\n\u001b[32m    780\u001b[39m             \u001b[38;5;28;01mreturn\u001b[39;00m (\n\u001b[32m    781\u001b[39m                 \u001b[33m\"\u001b[39m\u001b[33m<h4>NAIVE QUERY PLAN</h4><p>run <b>LazyFrame.show_graph()</b> to see\u001b[39m\u001b[33m\"\u001b[39m\n\u001b[32m    782\u001b[39m                 \u001b[33mf\u001b[39m\u001b[33m\"\u001b[39m\u001b[33m the optimized version</p>\u001b[39m\u001b[38;5;132;01m{\u001b[39;00msvg.decode()\u001b[38;5;132;01m}\u001b[39;00m\u001b[33m\"\u001b[39m\n\u001b[32m    783\u001b[39m             )\n\u001b[32m    784\u001b[39m         \u001b[38;5;28;01mexcept\u001b[39;00m \u001b[38;5;167;01mException\u001b[39;00m:\n\u001b[32m--> \u001b[39m\u001b[32m785\u001b[39m             insert = \u001b[38;5;28;43mself\u001b[39;49m\u001b[43m.\u001b[49m\u001b[43mexplain\u001b[49m\u001b[43m(\u001b[49m\u001b[43moptimized\u001b[49m\u001b[43m=\u001b[49m\u001b[38;5;28;43;01mFalse\u001b[39;49;00m\u001b[43m)\u001b[49m.replace(\u001b[33m\"\u001b[39m\u001b[38;5;130;01m\\n\u001b[39;00m\u001b[33m\"\u001b[39m, \u001b[33m\"\u001b[39m\u001b[33m<p></p>\u001b[39m\u001b[33m\"\u001b[39m)\n\u001b[32m    787\u001b[39m             \u001b[38;5;28;01mreturn\u001b[39;00m \u001b[33mf\u001b[39m\u001b[33m\"\"\"\u001b[39m\u001b[38;5;130;01m\\\u001b[39;00m\n\u001b[32m    788\u001b[39m \u001b[33m<i>naive plan: (run <b>LazyFrame.explain(optimized=True)</b> to see the optimized plan)</i>\u001b[39m\n\u001b[32m    789\u001b[39m \u001b[33m    <p></p>\u001b[39m\n\u001b[32m    790\u001b[39m \u001b[33m    <div>\u001b[39m\u001b[38;5;132;01m{\u001b[39;00minsert\u001b[38;5;132;01m}\u001b[39;00m\u001b[33m</div>\u001b[39m\u001b[38;5;130;01m\\\u001b[39;00m\n\u001b[32m    791\u001b[39m \u001b[33m\"\"\"\u001b[39m\n",
      "\u001b[36mFile \u001b[39m\u001b[32mc:\\Users\\ben.hardcastle\\github\\cat_polars\\.venv\\Lib\\site-packages\\polars\\_utils\\deprecation.py:97\u001b[39m, in \u001b[36mdeprecate_streaming_parameter.<locals>.decorate.<locals>.wrapper\u001b[39m\u001b[34m(*args, **kwargs)\u001b[39m\n\u001b[32m     93\u001b[39m         kwargs[\u001b[33m\"\u001b[39m\u001b[33mengine\u001b[39m\u001b[33m\"\u001b[39m] = \u001b[33m\"\u001b[39m\u001b[33min-memory\u001b[39m\u001b[33m\"\u001b[39m\n\u001b[32m     95\u001b[39m     \u001b[38;5;28;01mdel\u001b[39;00m kwargs[\u001b[33m\"\u001b[39m\u001b[33mstreaming\u001b[39m\u001b[33m\"\u001b[39m]\n\u001b[32m---> \u001b[39m\u001b[32m97\u001b[39m \u001b[38;5;28;01mreturn\u001b[39;00m \u001b[43mfunction\u001b[49m\u001b[43m(\u001b[49m\u001b[43m*\u001b[49m\u001b[43margs\u001b[49m\u001b[43m,\u001b[49m\u001b[43m \u001b[49m\u001b[43m*\u001b[49m\u001b[43m*\u001b[49m\u001b[43mkwargs\u001b[49m\u001b[43m)\u001b[49m\n",
      "\u001b[36mFile \u001b[39m\u001b[32mc:\\Users\\ben.hardcastle\\github\\cat_polars\\.venv\\Lib\\site-packages\\polars\\lazyframe\\opt_flags.py:330\u001b[39m, in \u001b[36mforward_old_opt_flags.<locals>.decorate.<locals>.wrapper\u001b[39m\u001b[34m(*args, **kwargs)\u001b[39m\n\u001b[32m    327\u001b[39m         optflags = cb(optflags, kwargs.pop(key))  \u001b[38;5;66;03m# type: ignore[no-untyped-call,unused-ignore]\u001b[39;00m\n\u001b[32m    329\u001b[39m kwargs[\u001b[33m\"\u001b[39m\u001b[33moptimizations\u001b[39m\u001b[33m\"\u001b[39m] = optflags\n\u001b[32m--> \u001b[39m\u001b[32m330\u001b[39m \u001b[38;5;28;01mreturn\u001b[39;00m \u001b[43mfunction\u001b[49m\u001b[43m(\u001b[49m\u001b[43m*\u001b[49m\u001b[43margs\u001b[49m\u001b[43m,\u001b[49m\u001b[43m \u001b[49m\u001b[43m*\u001b[49m\u001b[43m*\u001b[49m\u001b[43mkwargs\u001b[49m\u001b[43m)\u001b[49m\n",
      "\u001b[36mFile \u001b[39m\u001b[32mc:\\Users\\ben.hardcastle\\github\\cat_polars\\.venv\\Lib\\site-packages\\polars\\lazyframe\\frame.py:1301\u001b[39m, in \u001b[36mLazyFrame.explain\u001b[39m\u001b[34m(self, format, optimized, type_coercion, predicate_pushdown, projection_pushdown, simplify_expression, slice_pushdown, comm_subplan_elim, comm_subexpr_elim, cluster_with_columns, collapse_joins, streaming, engine, tree_format, optimizations)\u001b[39m\n\u001b[32m   1299\u001b[39m     \u001b[38;5;28;01mreturn\u001b[39;00m \u001b[38;5;28mself\u001b[39m._ldf.describe_plan_tree()\n\u001b[32m   1300\u001b[39m \u001b[38;5;28;01melse\u001b[39;00m:\n\u001b[32m-> \u001b[39m\u001b[32m1301\u001b[39m     \u001b[38;5;28;01mreturn\u001b[39;00m \u001b[38;5;28;43mself\u001b[39;49m\u001b[43m.\u001b[49m\u001b[43m_ldf\u001b[49m\u001b[43m.\u001b[49m\u001b[43mdescribe_plan\u001b[49m\u001b[43m(\u001b[49m\u001b[43m)\u001b[49m\n",
      "\u001b[31mColumnNotFoundError\u001b[39m: unable to find column \"keywords\"; valid columns: [\"start_time\", \"stop_time\", \"block_index\", \"n_trials\", \"n_responses\", \"n_hits\", \"n_contingent_rewards\", \"hit_rate\", \"false_alarm_rate\", \"catch_response_rate\", \"rewarded_modality\", \"is_first_block_aud\", \"cross_modality_dprime\", \"signed_cross_modality_dprime\", \"vis_dprime\", \"aud_dprime\", \"vis_target_response_rate\", \"vis_nontarget_response_rate\", \"aud_target_response_rate\", \"aud_nontarget_response_rate\", \"session_idx\", \"date\", \"subject_id\", \"session_id\", \"id\"]\n\nResolved plan until failure:\n\n\t---> FAILED HERE RESOLVING 'sort' <---\nParquet SCAN [data\\dynamicrouting_datacube_v0.0.268\\consolidated\\performance.parquet] [id: 3239446728752]\nPROJECT */25 COLUMNS"
     ]
    },
    {
     "data": {
      "text/plain": [
       "<LazyFrame at 0x1778CA124E0>"
      ]
     },
     "execution_count": 75,
     "metadata": {},
     "output_type": "execute_result"
    }
   ],
   "source": [
    "(\n",
    "    pl.scan_parquet(CONSOLIDATED_DIR / 'performance.parquet')\n",
    "    .filter(\n",
    "        pl.col('keywords').list.contains('production'),\n",
    "        pl.col('signed_cross_modality_dprime').mean().over('session_id') > 2.0, # <-- for each row, only consider the other rows with the same session_id\n",
    "    )\n",
    "    .with_columns(\n",
    "        (pl.col('stop_time') - pl.col('start_time')).alias('block_duration'),\n",
    "    )\n",
    "    .select('block_index', 'block_duration', 'signed_cross_modality_dprime', 'subject_id')\n",
    "    .sort('block_index')\n",
    ")"
   ]
  },
  {
   "cell_type": "markdown",
   "id": "ed4912e7",
   "metadata": {},
   "source": [
    "After removing the offending query, we can see the complete query plan.\n",
    "Try toggling `.collect()` to see the actual data:"
   ]
  },
  {
   "cell_type": "code",
   "execution_count": 83,
   "id": "6b08e457",
   "metadata": {},
   "outputs": [
    {
     "data": {
      "text/html": [
       "<h4>NAIVE QUERY PLAN</h4><p>run <b>LazyFrame.show_graph()</b> to see the optimized version</p><?xml version=\"1.0\" encoding=\"UTF-8\" standalone=\"no\"?>\r\n",
       "<!DOCTYPE svg PUBLIC \"-//W3C//DTD SVG 1.1//EN\"\r\n",
       " \"http://www.w3.org/Graphics/SVG/1.1/DTD/svg11.dtd\">\r\n",
       "<!-- Generated by graphviz version 13.1.0 (20250701.0955)\r\n",
       " -->\r\n",
       "<!-- Title: polars_query Pages: 1 -->\r\n",
       "<svg width=\"546pt\" height=\"337pt\"\r\n",
       " viewBox=\"0.00 0.00 546.00 337.00\" xmlns=\"http://www.w3.org/2000/svg\" xmlns:xlink=\"http://www.w3.org/1999/xlink\">\r\n",
       "<g id=\"graph0\" class=\"graph\" transform=\"scale(1 1) rotate(0) translate(4 333)\">\r\n",
       "<title>polars_query</title>\r\n",
       "<polygon fill=\"white\" stroke=\"none\" points=\"-4,4 -4,-333 542,-333 542,4 -4,4\"/>\r\n",
       "<!-- p1 -->\r\n",
       "<g id=\"node1\" class=\"node\">\r\n",
       "<title>p1</title>\r\n",
       "<polygon fill=\"none\" stroke=\"black\" points=\"363.62,-329 174.38,-329 174.38,-293 363.62,-293 363.62,-329\"/>\r\n",
       "<text xml:space=\"preserve\" text-anchor=\"middle\" x=\"269\" y=\"-305.95\" font-family=\"Times New Roman,serif\" font-size=\"14.00\">SORT BY [col(&quot;block_index&quot;)]</text>\r\n",
       "</g>\r\n",
       "<!-- p2 -->\r\n",
       "<g id=\"node2\" class=\"node\">\r\n",
       "<title>p2</title>\r\n",
       "<polygon fill=\"none\" stroke=\"black\" points=\"296,-257 242,-257 242,-221 296,-221 296,-257\"/>\r\n",
       "<text xml:space=\"preserve\" text-anchor=\"middle\" x=\"269\" y=\"-233.95\" font-family=\"Times New Roman,serif\" font-size=\"14.00\">π 4/4</text>\r\n",
       "</g>\r\n",
       "<!-- p1&#45;&#45;p2 -->\r\n",
       "<g id=\"edge1\" class=\"edge\">\r\n",
       "<title>p1&#45;&#45;p2</title>\r\n",
       "<path fill=\"none\" stroke=\"black\" d=\"M269,-292.7C269,-281.85 269,-267.92 269,-257.1\"/>\r\n",
       "</g>\r\n",
       "<!-- p3 -->\r\n",
       "<g id=\"node3\" class=\"node\">\r\n",
       "<title>p3</title>\r\n",
       "<polygon fill=\"none\" stroke=\"black\" points=\"513.62,-185 24.38,-185 24.38,-149 513.62,-149 513.62,-185\"/>\r\n",
       "<text xml:space=\"preserve\" text-anchor=\"middle\" x=\"269\" y=\"-161.95\" font-family=\"Times New Roman,serif\" font-size=\"14.00\">WITH COLUMNS [[(col(&quot;stop_time&quot;)) &#45; (col(&quot;start_time&quot;))].alias(&quot;block_duration&quot;)]</text>\r\n",
       "</g>\r\n",
       "<!-- p2&#45;&#45;p3 -->\r\n",
       "<g id=\"edge2\" class=\"edge\">\r\n",
       "<title>p2&#45;&#45;p3</title>\r\n",
       "<path fill=\"none\" stroke=\"black\" d=\"M269,-220.7C269,-209.85 269,-195.92 269,-185.1\"/>\r\n",
       "</g>\r\n",
       "<!-- p4 -->\r\n",
       "<g id=\"node4\" class=\"node\">\r\n",
       "<title>p4</title>\r\n",
       "<polygon fill=\"none\" stroke=\"black\" points=\"538,-113 0,-113 0,-77 538,-77 538,-113\"/>\r\n",
       "<text xml:space=\"preserve\" text-anchor=\"middle\" x=\"269\" y=\"-89.95\" font-family=\"Times New Roman,serif\" font-size=\"14.00\">FILTER BY [(col(&quot;signed_cross_modality_dprime&quot;).mean().over([col(&quot;session_id&quot;)])) &gt; (2.0)]</text>\r\n",
       "</g>\r\n",
       "<!-- p3&#45;&#45;p4 -->\r\n",
       "<g id=\"edge3\" class=\"edge\">\r\n",
       "<title>p3&#45;&#45;p4</title>\r\n",
       "<path fill=\"none\" stroke=\"black\" d=\"M269,-148.7C269,-137.85 269,-123.92 269,-113.1\"/>\r\n",
       "</g>\r\n",
       "<!-- p5 -->\r\n",
       "<g id=\"node5\" class=\"node\">\r\n",
       "<title>p5</title>\r\n",
       "<polygon fill=\"none\" stroke=\"black\" points=\"523.75,-41 14.25,-41 14.25,0 523.75,0 523.75,-41\"/>\r\n",
       "<text xml:space=\"preserve\" text-anchor=\"middle\" x=\"269\" y=\"-23.7\" font-family=\"Times New Roman,serif\" font-size=\"14.00\">Parquet SCAN [datadynamicrouting_datacube_v0.0.268consolidatedperformance.parquet]</text>\r\n",
       "<text xml:space=\"preserve\" text-anchor=\"middle\" x=\"269\" y=\"-7.2\" font-family=\"Times New Roman,serif\" font-size=\"14.00\">π */25;</text>\r\n",
       "</g>\r\n",
       "<!-- p4&#45;&#45;p5 -->\r\n",
       "<g id=\"edge4\" class=\"edge\">\r\n",
       "<title>p4&#45;&#45;p5</title>\r\n",
       "<path fill=\"none\" stroke=\"black\" d=\"M269,-76.82C269,-66.18 269,-52.49 269,-41.38\"/>\r\n",
       "</g>\r\n",
       "</g>\r\n",
       "</svg>\r\n"
      ],
      "text/plain": [
       "<LazyFrame at 0x1778CAA3C00>"
      ]
     },
     "execution_count": 83,
     "metadata": {},
     "output_type": "execute_result"
    }
   ],
   "source": [
    "lf = (\n",
    "    pl.scan_parquet(CONSOLIDATED_DIR / 'performance.parquet')\n",
    "    .filter(\n",
    "        pl.col('signed_cross_modality_dprime').mean().over('session_id') > 2.0, # <-- for each row, only consider the other rows with the same session_id\n",
    "    )\n",
    "    .with_columns(\n",
    "        (pl.col('stop_time') - pl.col('start_time')).alias('block_duration'),\n",
    "    )\n",
    "    .select('block_index', 'block_duration', 'signed_cross_modality_dprime', 'subject_id')\n",
    "    .sort('block_index')\n",
    ")\n",
    "lf"
   ]
  },
  {
   "cell_type": "markdown",
   "id": "4de3eba7",
   "metadata": {},
   "source": [
    "When we examine the optimized query plan, we can see that polars will only read 6/25 columns from\n",
    "the parquet file:"
   ]
  },
  {
   "cell_type": "code",
   "execution_count": 84,
   "id": "1c9986c3",
   "metadata": {},
   "outputs": [
    {
     "data": {
      "image/svg+xml": [
       "<svg xmlns=\"http://www.w3.org/2000/svg\" xmlns:xlink=\"http://www.w3.org/1999/xlink\" width=\"546pt\" height=\"342pt\" viewBox=\"0.00 0.00 546.00 342.00\">\n",
       "<g id=\"graph0\" class=\"graph\" transform=\"scale(1 1) rotate(0) translate(4 338)\">\n",
       "<title>polars_query</title>\n",
       "<polygon fill=\"white\" stroke=\"none\" points=\"-4,4 -4,-338 542,-338 542,4 -4,4\"/>\n",
       "<!-- p1 -->\n",
       "<g id=\"node1\" class=\"node\">\n",
       "<title>p1</title>\n",
       "<polygon fill=\"none\" stroke=\"black\" points=\"363.62,-334 174.38,-334 174.38,-298 363.62,-298 363.62,-334\"/>\n",
       "<text xml:space=\"preserve\" text-anchor=\"middle\" x=\"269\" y=\"-310.95\" font-family=\"Times New Roman,serif\" font-size=\"14.00\">SORT BY [col(\"block_index\")]</text>\n",
       "</g>\n",
       "<!-- p2 -->\n",
       "<g id=\"node2\" class=\"node\">\n",
       "<title>p2</title>\n",
       "<polygon fill=\"none\" stroke=\"black\" points=\"376.38,-262 161.62,-262 161.62,-221 376.38,-221 376.38,-262\"/>\n",
       "<text xml:space=\"preserve\" text-anchor=\"middle\" x=\"269\" y=\"-244.7\" font-family=\"Times New Roman,serif\" font-size=\"14.00\">simple π 4/7</text>\n",
       "<text xml:space=\"preserve\" text-anchor=\"middle\" x=\"269\" y=\"-228.2\" font-family=\"Times New Roman,serif\" font-size=\"14.00\">[\"block_index\", ... 3 other columns]</text>\n",
       "</g>\n",
       "<!-- p1&#45;&#45;p2 -->\n",
       "<g id=\"edge1\" class=\"edge\">\n",
       "<title>p1--p2</title>\n",
       "<path fill=\"none\" stroke=\"black\" d=\"M269,-297.82C269,-287.18 269,-273.49 269,-262.38\"/>\n",
       "</g>\n",
       "<!-- p3 -->\n",
       "<g id=\"node3\" class=\"node\">\n",
       "<title>p3</title>\n",
       "<polygon fill=\"none\" stroke=\"black\" points=\"513.62,-185 24.38,-185 24.38,-149 513.62,-149 513.62,-185\"/>\n",
       "<text xml:space=\"preserve\" text-anchor=\"middle\" x=\"269\" y=\"-161.95\" font-family=\"Times New Roman,serif\" font-size=\"14.00\">WITH COLUMNS [[(col(\"stop_time\")) - (col(\"start_time\"))].alias(\"block_duration\")]</text>\n",
       "</g>\n",
       "<!-- p2&#45;&#45;p3 -->\n",
       "<g id=\"edge2\" class=\"edge\">\n",
       "<title>p2--p3</title>\n",
       "<path fill=\"none\" stroke=\"black\" d=\"M269,-220.69C269,-209.62 269,-195.96 269,-185.32\"/>\n",
       "</g>\n",
       "<!-- p4 -->\n",
       "<g id=\"node4\" class=\"node\">\n",
       "<title>p4</title>\n",
       "<polygon fill=\"none\" stroke=\"black\" points=\"538,-113 0,-113 0,-77 538,-77 538,-113\"/>\n",
       "<text xml:space=\"preserve\" text-anchor=\"middle\" x=\"269\" y=\"-89.95\" font-family=\"Times New Roman,serif\" font-size=\"14.00\">FILTER BY [(col(\"signed_cross_modality_dprime\").mean().over([col(\"session_id\")])) &gt; (2.0)]</text>\n",
       "</g>\n",
       "<!-- p3&#45;&#45;p4 -->\n",
       "<g id=\"edge3\" class=\"edge\">\n",
       "<title>p3--p4</title>\n",
       "<path fill=\"none\" stroke=\"black\" d=\"M269,-148.7C269,-137.85 269,-123.92 269,-113.1\"/>\n",
       "</g>\n",
       "<!-- p5 -->\n",
       "<g id=\"node5\" class=\"node\">\n",
       "<title>p5</title>\n",
       "<polygon fill=\"none\" stroke=\"black\" points=\"523.75,-41 14.25,-41 14.25,0 523.75,0 523.75,-41\"/>\n",
       "<text xml:space=\"preserve\" text-anchor=\"middle\" x=\"269\" y=\"-23.7\" font-family=\"Times New Roman,serif\" font-size=\"14.00\">Parquet SCAN [datadynamicrouting_datacube_v0.0.268consolidatedperformance.parquet]</text>\n",
       "<text xml:space=\"preserve\" text-anchor=\"middle\" x=\"269\" y=\"-7.2\" font-family=\"Times New Roman,serif\" font-size=\"14.00\">π 6/25;</text>\n",
       "</g>\n",
       "<!-- p4&#45;&#45;p5 -->\n",
       "<g id=\"edge4\" class=\"edge\">\n",
       "<title>p4--p5</title>\n",
       "<path fill=\"none\" stroke=\"black\" d=\"M269,-76.82C269,-66.18 269,-52.49 269,-41.38\"/>\n",
       "</g>\n",
       "</g>\n",
       "</svg>"
      ],
      "text/plain": [
       "<IPython.core.display.SVG object>"
      ]
     },
     "metadata": {},
     "output_type": "display_data"
    }
   ],
   "source": [
    "lf.show_graph()"
   ]
  },
  {
   "cell_type": "markdown",
   "id": "89463b7d",
   "metadata": {},
   "source": [
    "With parquet files, each column is stored in chunks with metadata about the min/max values, so if\n",
    "there's filtering operation in the query, polars can skip reading the chunks that don't match the\n",
    "filter to read even less data. \n",
    "\n",
    "This is referred to as **predicate pushdown**.\n",
    "\n",
    "It reduces memory usage and allows us to work with datasets that are larger than the amount of RAM\n",
    "available.\n",
    "\n",
    "It also makes queries against files on S3 more efficient, since we're downloading less data."
   ]
  },
  {
   "cell_type": "markdown",
   "id": "5a08eeba",
   "metadata": {},
   "source": [
    "Finally, to get the data as a regular `DataFrame`, we just have to call `.collect()` on the `LazyFrame`, at\n",
    "which point polars fetches the necessary data from the parquet files:"
   ]
  },
  {
   "cell_type": "code",
   "execution_count": 86,
   "id": "98ed88bf",
   "metadata": {},
   "outputs": [
    {
     "data": {
      "text/html": [
       "<div><style>\n",
       ".dataframe > thead > tr,\n",
       ".dataframe > tbody > tr {\n",
       "  text-align: right;\n",
       "  white-space: pre-wrap;\n",
       "}\n",
       "</style>\n",
       "<small>shape: (6, 4)</small><table border=\"1\" class=\"dataframe\"><thead><tr><th>block_index</th><th>block_duration</th><th>signed_cross_modality_dprime</th><th>subject_id</th></tr><tr><td>i64</td><td>f64</td><td>f64</td><td>i64</td></tr></thead><tbody><tr><td>0</td><td>603.68899</td><td>2.224615</td><td>703880</td></tr><tr><td>1</td><td>601.10347</td><td>1.769163</td><td>703880</td></tr><tr><td>2</td><td>604.8567</td><td>2.639312</td><td>703880</td></tr><tr><td>3</td><td>602.07098</td><td>2.102846</td><td>703880</td></tr><tr><td>4</td><td>605.50716</td><td>2.626949</td><td>703880</td></tr><tr><td>5</td><td>597.18357</td><td>1.232238</td><td>703880</td></tr></tbody></table></div>"
      ],
      "text/plain": [
       "shape: (6, 4)\n",
       "┌─────────────┬────────────────┬──────────────────────────────┬────────────┐\n",
       "│ block_index ┆ block_duration ┆ signed_cross_modality_dprime ┆ subject_id │\n",
       "│ ---         ┆ ---            ┆ ---                          ┆ ---        │\n",
       "│ i64         ┆ f64            ┆ f64                          ┆ i64        │\n",
       "╞═════════════╪════════════════╪══════════════════════════════╪════════════╡\n",
       "│ 0           ┆ 603.68899      ┆ 2.224615                     ┆ 703880     │\n",
       "│ 1           ┆ 601.10347      ┆ 1.769163                     ┆ 703880     │\n",
       "│ 2           ┆ 604.8567       ┆ 2.639312                     ┆ 703880     │\n",
       "│ 3           ┆ 602.07098      ┆ 2.102846                     ┆ 703880     │\n",
       "│ 4           ┆ 605.50716      ┆ 2.626949                     ┆ 703880     │\n",
       "│ 5           ┆ 597.18357      ┆ 1.232238                     ┆ 703880     │\n",
       "└─────────────┴────────────────┴──────────────────────────────┴────────────┘"
      ]
     },
     "execution_count": 86,
     "metadata": {},
     "output_type": "execute_result"
    }
   ],
   "source": [
    "lf.collect()"
   ]
  },
  {
   "cell_type": "markdown",
   "id": "778a2527",
   "metadata": {},
   "source": [
    "In [2_lazynwb.ipynb](2_lazynwb.ipynb) we'll see how to access NWB files with the same `LazyFrame`\n",
    "interfact, so we can build queries that read data efficiently."
   ]
  }
 ],
 "metadata": {
  "kernelspec": {
   "display_name": "cat-polars",
   "language": "python",
   "name": "python3"
  },
  "language_info": {
   "codemirror_mode": {
    "name": "ipython",
    "version": 3
   },
   "file_extension": ".py",
   "mimetype": "text/x-python",
   "name": "python",
   "nbconvert_exporter": "python",
   "pygments_lexer": "ipython3",
   "version": "3.13.1"
  }
 },
 "nbformat": 4,
 "nbformat_minor": 5
}
